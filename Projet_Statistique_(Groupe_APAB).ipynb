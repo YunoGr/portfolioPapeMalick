{
  "nbformat": 4,
  "nbformat_minor": 0,
  "metadata": {
    "colab": {
      "provenance": [],
      "include_colab_link": true
    },
    "kernelspec": {
      "name": "python3",
      "display_name": "Python 3"
    },
    "language_info": {
      "name": "python"
    },
    "widgets": {
      "application/vnd.jupyter.widget-state+json": {
        "ff33c24a6af54dc596ec249d1b07e5ae": {
          "model_module": "@jupyter-widgets/controls",
          "model_name": "VBoxModel",
          "model_module_version": "1.5.0",
          "state": {
            "_dom_classes": [
              "widget-interact"
            ],
            "_model_module": "@jupyter-widgets/controls",
            "_model_module_version": "1.5.0",
            "_model_name": "VBoxModel",
            "_view_count": null,
            "_view_module": "@jupyter-widgets/controls",
            "_view_module_version": "1.5.0",
            "_view_name": "VBoxView",
            "box_style": "",
            "children": [
              "IPY_MODEL_cca0417f8d59463b95e395f5b3fc72e6",
              "IPY_MODEL_36f31f7d90794ddeb98377f272213787"
            ],
            "layout": "IPY_MODEL_13a6a4bac7284a6a806492f9960b606e"
          }
        },
        "cca0417f8d59463b95e395f5b3fc72e6": {
          "model_module": "@jupyter-widgets/controls",
          "model_name": "DropdownModel",
          "model_module_version": "1.5.0",
          "state": {
            "_dom_classes": [],
            "_model_module": "@jupyter-widgets/controls",
            "_model_module_version": "1.5.0",
            "_model_name": "DropdownModel",
            "_options_labels": [
              "2020-03-29",
              "2020-03-31",
              "2020-04-01",
              "2020-04-02",
              "2020-04-03",
              "2020-04-04",
              "2020-04-05",
              "2020-04-06",
              "2020-04-07",
              "2020-04-08",
              "2020-04-09",
              "2020-04-10",
              "2020-04-14",
              "2020-04-15",
              "2020-04-16",
              "2020-04-17",
              "2020-04-18",
              "2020-04-19",
              "2020-04-20",
              "2020-04-21",
              "2020-04-22",
              "2020-04-23",
              "2020-04-24",
              "2020-04-25",
              "2020-04-26",
              "2020-04-27",
              "2020-04-28",
              "2020-04-29",
              "2020-04-30",
              "2020-05-01",
              "2020-05-02",
              "2020-05-03",
              "2020-05-04",
              "2020-05-05",
              "2020-05-06",
              "2020-05-07",
              "2020-05-08",
              "2020-05-09",
              "2020-05-10",
              "2020-05-11",
              "2020-05-12",
              "2020-05-13",
              "2020-05-14",
              "2020-05-15",
              "2020-05-16",
              "2020-05-17",
              "2020-05-18",
              "2020-05-19",
              "2020-05-20",
              "2020-05-21",
              "2020-05-22",
              "2020-05-23",
              "2020-05-24",
              "2020-05-25",
              "2020-05-26",
              "2020-05-27",
              "2020-05-28",
              "2020-05-29",
              "2020-05-30",
              "2020-05-31",
              "2020-06-01",
              "2020-06-02",
              "2020-06-03",
              "2020-06-04",
              "2020-06-05",
              "2020-06-07",
              "2020-06-08",
              "2020-06-09",
              "2020-06-10",
              "2020-06-11",
              "2020-06-12",
              "2020-06-14",
              "2020-06-15",
              "2020-06-16",
              "2020-06-17",
              "2020-06-18",
              "2020-06-19",
              "2020-06-20",
              "2020-06-21",
              "2020-06-22",
              "2020-06-23",
              "2020-06-24",
              "2020-06-25",
              "2020-06-26",
              "2020-06-27",
              "2020-06-28",
              "2020-06-29",
              "2020-06-30",
              "2020-07-01",
              "2020-07-02",
              "2020-07-03",
              "2020-07-04",
              "2020-07-05",
              "2020-07-06",
              "2020-07-07",
              "2020-07-08",
              "2020-07-09",
              "2020-07-10",
              "2020-07-11",
              "2020-07-12",
              "2020-07-13",
              "2020-07-14",
              "2020-07-15",
              "2020-07-16",
              "2020-07-17",
              "2020-07-20",
              "2020-07-21",
              "2020-07-22",
              "2020-07-23",
              "2020-07-24",
              "2020-07-25",
              "2020-07-26",
              "2020-07-28",
              "2020-07-29",
              "2020-07-30",
              "2020-08-02",
              "2020-08-04",
              "2020-08-05",
              "2020-08-07",
              "2020-08-09",
              "2020-08-10",
              "2020-08-11",
              "2020-08-12",
              "2020-08-14",
              "2020-08-16",
              "2020-08-17",
              "2020-08-18",
              "2020-08-19",
              "2020-08-20",
              "2020-08-21",
              "2020-08-22",
              "2020-08-23",
              "2020-08-24",
              "2020-08-25",
              "2020-08-26",
              "2020-08-27",
              "2020-08-28",
              "2020-08-30",
              "2020-08-31",
              "2020-09-01",
              "2020-09-02",
              "2020-09-03",
              "2020-09-04",
              "2020-09-05",
              "2020-09-06",
              "2020-09-07",
              "2020-09-08",
              "2020-09-09",
              "2020-09-10",
              "2020-09-11",
              "2020-09-12",
              "2020-09-13",
              "2020-09-14",
              "2020-09-15",
              "2020-09-16",
              "2020-09-17",
              "2020-09-18",
              "2020-09-19",
              "2020-09-20",
              "2020-09-21",
              "2020-09-22",
              "2020-09-23",
              "2020-09-24",
              "2020-09-27",
              "2020-09-28",
              "2020-09-29",
              "2020-09-30",
              "2020-10-01",
              "2020-10-02",
              "2020-10-04",
              "2020-10-07",
              "2020-10-08",
              "2020-10-11",
              "2020-10-12",
              "2020-10-14",
              "2020-10-16",
              "2020-10-17",
              "2020-10-19",
              "2020-10-20"
            ],
            "_view_count": null,
            "_view_module": "@jupyter-widgets/controls",
            "_view_module_version": "1.5.0",
            "_view_name": "DropdownView",
            "description": "madate",
            "description_tooltip": null,
            "disabled": false,
            "index": 0,
            "layout": "IPY_MODEL_a664d511e812484d98b770118e05f56d",
            "style": "IPY_MODEL_8e77c4a08cca4c45afbd88995bf0090b"
          }
        },
        "36f31f7d90794ddeb98377f272213787": {
          "model_module": "@jupyter-widgets/output",
          "model_name": "OutputModel",
          "model_module_version": "1.0.0",
          "state": {
            "_dom_classes": [],
            "_model_module": "@jupyter-widgets/output",
            "_model_module_version": "1.0.0",
            "_model_name": "OutputModel",
            "_view_count": null,
            "_view_module": "@jupyter-widgets/output",
            "_view_module_version": "1.0.0",
            "_view_name": "OutputView",
            "layout": "IPY_MODEL_01ccd8582e0d40aeadae45c0e9d5add9",
            "msg_id": "",
            "outputs": [
              {
                "output_type": "display_data",
                "data": {
                  "text/plain": "<Figure size 1000x800 with 2 Axes>",
                  "image/png": "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\n"
                },
                "metadata": {}
              }
            ]
          }
        },
        "13a6a4bac7284a6a806492f9960b606e": {
          "model_module": "@jupyter-widgets/base",
          "model_name": "LayoutModel",
          "model_module_version": "1.2.0",
          "state": {
            "_model_module": "@jupyter-widgets/base",
            "_model_module_version": "1.2.0",
            "_model_name": "LayoutModel",
            "_view_count": null,
            "_view_module": "@jupyter-widgets/base",
            "_view_module_version": "1.2.0",
            "_view_name": "LayoutView",
            "align_content": null,
            "align_items": null,
            "align_self": null,
            "border": null,
            "bottom": null,
            "display": null,
            "flex": null,
            "flex_flow": null,
            "grid_area": null,
            "grid_auto_columns": null,
            "grid_auto_flow": null,
            "grid_auto_rows": null,
            "grid_column": null,
            "grid_gap": null,
            "grid_row": null,
            "grid_template_areas": null,
            "grid_template_columns": null,
            "grid_template_rows": null,
            "height": null,
            "justify_content": null,
            "justify_items": null,
            "left": null,
            "margin": null,
            "max_height": null,
            "max_width": null,
            "min_height": null,
            "min_width": null,
            "object_fit": null,
            "object_position": null,
            "order": null,
            "overflow": null,
            "overflow_x": null,
            "overflow_y": null,
            "padding": null,
            "right": null,
            "top": null,
            "visibility": null,
            "width": null
          }
        },
        "a664d511e812484d98b770118e05f56d": {
          "model_module": "@jupyter-widgets/base",
          "model_name": "LayoutModel",
          "model_module_version": "1.2.0",
          "state": {
            "_model_module": "@jupyter-widgets/base",
            "_model_module_version": "1.2.0",
            "_model_name": "LayoutModel",
            "_view_count": null,
            "_view_module": "@jupyter-widgets/base",
            "_view_module_version": "1.2.0",
            "_view_name": "LayoutView",
            "align_content": null,
            "align_items": null,
            "align_self": null,
            "border": null,
            "bottom": null,
            "display": null,
            "flex": null,
            "flex_flow": null,
            "grid_area": null,
            "grid_auto_columns": null,
            "grid_auto_flow": null,
            "grid_auto_rows": null,
            "grid_column": null,
            "grid_gap": null,
            "grid_row": null,
            "grid_template_areas": null,
            "grid_template_columns": null,
            "grid_template_rows": null,
            "height": null,
            "justify_content": null,
            "justify_items": null,
            "left": null,
            "margin": null,
            "max_height": null,
            "max_width": null,
            "min_height": null,
            "min_width": null,
            "object_fit": null,
            "object_position": null,
            "order": null,
            "overflow": null,
            "overflow_x": null,
            "overflow_y": null,
            "padding": null,
            "right": null,
            "top": null,
            "visibility": null,
            "width": null
          }
        },
        "8e77c4a08cca4c45afbd88995bf0090b": {
          "model_module": "@jupyter-widgets/controls",
          "model_name": "DescriptionStyleModel",
          "model_module_version": "1.5.0",
          "state": {
            "_model_module": "@jupyter-widgets/controls",
            "_model_module_version": "1.5.0",
            "_model_name": "DescriptionStyleModel",
            "_view_count": null,
            "_view_module": "@jupyter-widgets/base",
            "_view_module_version": "1.2.0",
            "_view_name": "StyleView",
            "description_width": ""
          }
        },
        "01ccd8582e0d40aeadae45c0e9d5add9": {
          "model_module": "@jupyter-widgets/base",
          "model_name": "LayoutModel",
          "model_module_version": "1.2.0",
          "state": {
            "_model_module": "@jupyter-widgets/base",
            "_model_module_version": "1.2.0",
            "_model_name": "LayoutModel",
            "_view_count": null,
            "_view_module": "@jupyter-widgets/base",
            "_view_module_version": "1.2.0",
            "_view_name": "LayoutView",
            "align_content": null,
            "align_items": null,
            "align_self": null,
            "border": null,
            "bottom": null,
            "display": null,
            "flex": null,
            "flex_flow": null,
            "grid_area": null,
            "grid_auto_columns": null,
            "grid_auto_flow": null,
            "grid_auto_rows": null,
            "grid_column": null,
            "grid_gap": null,
            "grid_row": null,
            "grid_template_areas": null,
            "grid_template_columns": null,
            "grid_template_rows": null,
            "height": null,
            "justify_content": null,
            "justify_items": null,
            "left": null,
            "margin": null,
            "max_height": null,
            "max_width": null,
            "min_height": null,
            "min_width": null,
            "object_fit": null,
            "object_position": null,
            "order": null,
            "overflow": null,
            "overflow_x": null,
            "overflow_y": null,
            "padding": null,
            "right": null,
            "top": null,
            "visibility": null,
            "width": null
          }
        }
      }
    }
  },
  "cells": [
    {
      "cell_type": "markdown",
      "metadata": {
        "id": "view-in-github",
        "colab_type": "text"
      },
      "source": [
        "<a href=\"https://colab.research.google.com/github/YunoGr/portfolioPapeMalick/blob/main/Projet_Statistique_(Groupe_APAB).ipynb\" target=\"_parent\"><img src=\"https://colab.research.google.com/assets/colab-badge.svg\" alt=\"Open In Colab\"/></a>"
      ]
    },
    {
      "cell_type": "markdown",
      "source": [
        "# Projet de Statistique (Groupe APAB )"
      ],
      "metadata": {
        "id": "dVPUV6HfqP8j"
      }
    },
    {
      "cell_type": "markdown",
      "source": [
        "# Membres de l'équipe :\n",
        "L'équipe qui à travaillé sur ce projet en entier est :\n",
        "\n",
        "* Aissatou GASSAMA (SEM)\n",
        "* Pape Malick DIOP (IIA)\n",
        "* Adama SENE (CAA)\n",
        "* Bineta SY (CAA)\n",
        "\n",
        "# Professeur :\n",
        "* Monsieur Lucien GNING"
      ],
      "metadata": {
        "id": "PKFNtCkTqVda"
      }
    },
    {
      "cell_type": "markdown",
      "source": [
        "# Exercice 1 : Simulation de lois\n"
      ],
      "metadata": {
        "id": "VwUu1kBDsHt2"
      }
    },
    {
      "cell_type": "markdown",
      "source": [
        "Importation des bibliotheques nécessaires pour cet exercice:"
      ],
      "metadata": {
        "id": "1yr4btLIyw1K"
      }
    },
    {
      "cell_type": "code",
      "source": [
        "import numpy as np\n",
        "import matplotlib.pyplot as plt\n",
        "from scipy.stats import gaussian_kde"
      ],
      "metadata": {
        "id": "VO9IWrphy4sX"
      },
      "execution_count": null,
      "outputs": []
    },
    {
      "cell_type": "markdown",
      "source": [
        "1. ## Loi binomiale $B(30, 0.5)$\n",
        "Nous simulons un échantillon de taille 10,000 suivant une loi binomiale $B(30, 0.5)$ et traçons l'histogramme."
      ],
      "metadata": {
        "id": "SRwFHnJl7LtA"
      }
    },
    {
      "cell_type": "code",
      "source": [
        "# Simulation de la loi binomiale B(30, 0.5)\n",
        "binomial_sample = np.random.binomial(30, 0.5, 10000)\n",
        "plt.hist(binomial_sample, bins=30, density=True, alpha=0.7, color='blue', edgecolor='black')\n",
        "plt.title(\"Histogramme de l’échantillon B(30, 0.5)\")\n",
        "plt.xlabel(\"Valeurs\")\n",
        "plt.ylabel(\"Densité\")\n",
        "plt.grid(alpha=0.3)\n",
        "plt.show()"
      ],
      "metadata": {
        "colab": {
          "base_uri": "https://localhost:8080/",
          "height": 472
        },
        "id": "ncGHBE-B7Ii0",
        "outputId": "991ab501-2e4b-438a-e61b-cb1f7bd99660"
      },
      "execution_count": null,
      "outputs": [
        {
          "output_type": "display_data",
          "data": {
            "text/plain": [
              "<Figure size 640x480 with 1 Axes>"
            ],
            "image/png": "[encoded data removed]"
          },
          "metadata": {}
        }
      ]
    },
    {
      "cell_type": "markdown",
      "source": [
        "L'histogramme montre une distribution symétrique, centrée autour de la valeur 15.\n",
        "Cela correspond à la moyenne théorique\n",
        "$$\n",
        "𝐸(𝑋)=𝑛𝑝=30×0.5=15$$\n",
        "\n",
        "Par ailleurs, les valeurs s'écartent modérément de la moyenne, ce qui est attendu. Cette dispersion est cohérente avec la variance théorique\n",
        "$$\n",
        "𝑉𝑎𝑟(𝑋)=𝑛𝑝(1−𝑝)=7.5$$\n"
      ],
      "metadata": {
        "id": "YaXs2rKm7fGN"
      }
    },
    {
      "cell_type": "markdown",
      "source": [
        "2. ## Loi normale $N(3, 0.9)$\n",
        "Nous simulons un échantillon de taille 10,000 suivant une loi normale $N(3, 0.9)$ et traçons sa densité."
      ],
      "metadata": {
        "id": "kQYEELT77hfr"
      }
    },
    {
      "cell_type": "code",
      "source": [
        "# Simulation de la loi normale N(3, 0.9)\n",
        "normal_sample = np.random.normal(3, 0.9, 10000)\n",
        "density = gaussian_kde(normal_sample)\n",
        "x = np.linspace(-2, 8, 1000)\n",
        "\n",
        "plt.plot(x, density(x), color='red', label='Densité estimée')\n",
        "plt.title(\"Densité estimée pour la loi N(3, 0.9)\")\n",
        "plt.xlabel(\"Valeurs\")\n",
        "plt.ylabel(\"Densité\")\n",
        "plt.grid(alpha=0.3)\n",
        "plt.legend()\n",
        "plt.show()"
      ],
      "metadata": {
        "colab": {
          "base_uri": "https://localhost:8080/",
          "height": 472
        },
        "id": "Nwstbomx7Ttx",
        "outputId": "019b568e-88ce-4e46-a3fe-5e2b59767352"
      },
      "execution_count": null,
      "outputs": [
        {
          "output_type": "display_data",
          "data": {
            "text/plain": [
              "<Figure size 640x480 with 1 Axes>"
            ],
            "image/png": "[encoded data removed]"
          },
          "metadata": {}
        }
      ]
    },
    {
      "cell_type": "markdown",
      "source": [
        "La courbe en cloche symétrique observée est typique d’une loi normale.\n",
        "Elle est centrée autour de 3, ce qui correspond à la moyenne théorique $𝜇=3.$\n",
        "\n",
        "Par ailleurs, L'écart-type théorique est $𝜎=0.9$, ce qui explique la concentration des valeurs autour de 3 et la diminution progressive de la densité au-delà de $[0,6]$"
      ],
      "metadata": {
        "id": "GB_p7zAA9xkF"
      }
    },
    {
      "cell_type": "markdown",
      "source": [
        "3. ## Loi du $χ² $ à 20 degrés de liberté\n",
        "Nous simulons un échantillon de taille 10,000 suivant une loi du $ χ² $ à 20 degrés de liberté et traçons sa densité."
      ],
      "metadata": {
        "id": "cWWD-Zia8ESU"
      }
    },
    {
      "cell_type": "code",
      "source": [
        "# Simulation de la loi du χ² à 20 degrés de liberté\n",
        "chi2_sample = np.random.chisquare(20, 10000)\n",
        "density_chi2 = gaussian_kde(chi2_sample)\n",
        "x_chi2 = np.linspace(0, 60, 1000)\n",
        "\n",
        "plt.plot(x_chi2, density_chi2(x_chi2), color='green', label='Densité estimée')\n",
        "plt.title(\"Densité estimée pour la loi χ² (20 degrés de liberté)\")\n",
        "plt.xlabel(\"Valeurs\")\n",
        "plt.ylabel(\"Densité\")\n",
        "plt.grid(alpha=0.3)\n",
        "plt.legend()\n",
        "plt.show()"
      ],
      "metadata": {
        "colab": {
          "base_uri": "https://localhost:8080/",
          "height": 472
        },
        "id": "UFOhnKb-79-C",
        "outputId": "c94f33f5-1746-4ee2-9180-4c31cedcf0a6"
      },
      "execution_count": null,
      "outputs": [
        {
          "output_type": "display_data",
          "data": {
            "text/plain": [
              "<Figure size 640x480 with 1 Axes>"
            ],
            "image/png": "[encoded data removed]"
          },
          "metadata": {}
        }
      ]
    },
    {
      "cell_type": "markdown",
      "source": [
        "La courbe est asymétrique, avec un pic autour de\n",
        "20, qui correspond à la moyenne théorique $ 𝐸[𝑋]=𝑘=20 $ (où 𝑘 est le nombre de degrés de liberté).\n",
        "\n",
        "Par ailleurs, la distribution a une longue queue vers les grandes valeurs, ce qui est caractéristique de la loi $ 𝜒 2 .$"
      ],
      "metadata": {
        "id": "Ws6xTjiA-h3S"
      }
    },
    {
      "cell_type": "markdown",
      "source": [
        "# Exercice 2 : Méthode de Monte Carlo\n"
      ],
      "metadata": {
        "id": "rgyGZ_3u9r64"
      }
    },
    {
      "cell_type": "markdown",
      "source": [
        "Importation des bibliotheques necessaires pour cet exercice:"
      ],
      "metadata": {
        "id": "LQdu8HtSHBSe"
      }
    },
    {
      "cell_type": "code",
      "source": [
        "import numpy as np\n",
        "import matplotlib.pyplot as plt"
      ],
      "metadata": {
        "id": "vBj8jHRt-xwn"
      },
      "execution_count": null,
      "outputs": []
    },
    {
      "cell_type": "markdown",
      "source": [
        "Dans cet exercice, nous allons estimer l'intégrale suivante par la méthode de Monte Carlo :\n",
        "\n",
        "$$ I_2 = \\int_0^1 \\sqrt{1 - x^2} \\, dx $$\n",
        "\n",
        "La valeur théorique de cette intégrale est :\n",
        "\n",
        "$$ I_2 = \\frac{\\pi}{4} $$\n",
        "\n",
        "Nous allons également observer graphiquement l'évolution de cette estimation lorsque le nombre d'échantillons, $n$, varie."
      ],
      "metadata": {
        "id": "M9PWM3KK-PLn"
      }
    },
    {
      "cell_type": "markdown",
      "source": [
        "## Étape 1 : Estimation Monte Carlo\n",
        "Nous utilisons la méthode de Monte Carlo pour estimer $I_2$. Cette méthode consiste à :\n",
        "- Générer des points aléatoires $x \\in [0, 1]$.\n",
        "- Calculer les valeurs correspondantes de $\\sqrt{1 - x^2}$.\n",
        "- Prendre la moyenne de ces valeurs pour approximer l'intégrale."
      ],
      "metadata": {
        "id": "kUa7i9Rh-brj"
      }
    },
    {
      "cell_type": "code",
      "source": [
        "# Valeur théorique de l'intégrale\n",
        "I2_theoretical = np.pi / 4\n",
        "\n",
        "# Simulation Monte Carlo avec n = 10,000\n",
        "n = 10000\n",
        "x_samples = np.random.uniform(0, 1, n)  # Génération des échantillons aléatoires\n",
        "y_samples = np.sqrt(1 - x_samples**2)   # Calcul de sqrt(1 - x^2)\n",
        "I2_estimation = np.mean(y_samples)      # Estimation par la méthode de Monte Carlo\n",
        "\n",
        "print(f\"Estimation Monte Carlo avec n={n} : {I2_estimation}\")\n",
        "print(f\"Valeur théorique (π/4) : {I2_theoretical}\")"
      ],
      "metadata": {
        "colab": {
          "base_uri": "https://localhost:8080/"
        },
        "id": "JgHGxPSr-HyS",
        "outputId": "689ba256-eec7-4ee0-b2d6-05b82944de7c"
      },
      "execution_count": null,
      "outputs": [
        {
          "output_type": "stream",
          "name": "stdout",
          "text": [
            "Estimation Monte Carlo avec n=10000 : 0.7887569892521926\n",
            "Valeur théorique (π/4) : 0.7853981633974483\n"
          ]
        }
      ]
    },
    {
      "cell_type": "markdown",
      "source": [
        "L'estimation obtenue pour $ 𝐼2 $ avec $𝑛=10,000$ points est 0.7835.\n",
        "Cela est très proche de la valeur théorique $ 𝜋/4≈0.7854$\n",
        "\n",
        "En outre, la différence relative entre l'estimation et la valeur théorique est très faible, ce qui montre l'efficacité de la méthode de Monte Carlo pour une taille d'échantillon élevée $(𝑛 = 10,000).$"
      ],
      "metadata": {
        "id": "mS_2cIHU_gjr"
      }
    },
    {
      "cell_type": "markdown",
      "source": [
        "## Étape 2 : Observation graphique de l'évolution de l'estimation\n",
        "Nous traçons un graphique montrant l'évolution de l'estimation de $I_2$ en fonction du nombre d'échantillons $n$. Nous comparons également cette estimation à la valeur théorique."
      ],
      "metadata": {
        "id": "76gumJ2O--4p"
      }
    },
    {
      "cell_type": "code",
      "source": [
        "# Simulation pour différentes valeurs de n\n",
        "n_values = np.logspace(1, 4, 100, dtype=int)  # n varie de 10 à 10,000 (logarithmique)\n",
        "estimations = []\n",
        "\n",
        "for n in n_values:\n",
        "    x_samples = np.random.uniform(0, 1, n)\n",
        "    y_samples = np.sqrt(1 - x_samples**2)\n",
        "    estimations.append(np.mean(y_samples))\n",
        "\n",
        "# Tracé du graphique\n",
        "plt.plot(n_values, estimations, label='Estimation Monte Carlo', color='blue')\n",
        "plt.axhline(y=I2_theoretical, color='red', linestyle='--', label='Valeur théorique (π/4)')\n",
        "plt.xscale('log')\n",
        "plt.xlabel('Nombre d’échantillons (n)')\n",
        "plt.ylabel('Estimation de I2')\n",
        "plt.title('Estimation de I2 par la méthode de Monte Carlo')\n",
        "plt.legend()\n",
        "plt.grid(alpha=0.3)\n",
        "plt.show()"
      ],
      "metadata": {
        "colab": {
          "base_uri": "https://localhost:8080/",
          "height": 477
        },
        "id": "4zMHS4oo-wZu",
        "outputId": "0222ed10-f404-4d03-ec0c-93815cb919a9"
      },
      "execution_count": null,
      "outputs": [
        {
          "output_type": "display_data",
          "data": {
            "text/plain": [
              "<Figure size 640x480 with 1 Axes>"
            ],
            "image/png": "[encoded data removed]"
          },
          "metadata": {}
        }
      ]
    },
    {
      "cell_type": "markdown",
      "source": [
        "Pour un faible nombre d'échantillons $ (𝑛)$, l'estimation de $𝐼2 $ varie fortement. Cela reflète la variabilité élevée due à la petite taille de l'échantillon.\n",
        "En outre, à mesure que 𝑛 augmente, l'estimation de $𝐼2​$ converge progressivement vers la valeur théorique 𝜋/4, représentée par la ligne rouge (0.7854)."
      ],
      "metadata": {
        "id": "dR1cs7beA2HI"
      }
    },
    {
      "cell_type": "markdown",
      "source": [
        "## Conclusion\n",
        "Nous observons que l'estimation Monte Carlo converge vers la valeur théorique $\\frac{\\pi}{4}$ au fur et à mesure que le nombre d'échantillons $n$ augmente. Cela montre la précision et la cohérence de la méthode de Monte Carlo."
      ],
      "metadata": {
        "id": "bp9ItM5b_JD1"
      }
    },
    {
      "cell_type": "markdown",
      "source": [
        "# Exercice 3 : Analyse de régression linéaire"
      ],
      "metadata": {
        "id": "4wDb7v1ICiMw"
      }
    },
    {
      "cell_type": "markdown",
      "source": [
        "Importation des bibliotheques necessaires pour cet exercice:"
      ],
      "metadata": {
        "id": "zE3UsagdIUjd"
      }
    },
    {
      "cell_type": "code",
      "source": [
        "import pandas as pd\n",
        "import numpy as np\n",
        "import matplotlib.pyplot as plt"
      ],
      "metadata": {
        "id": "gm0u3mbiIdTh"
      },
      "execution_count": null,
      "outputs": []
    },
    {
      "cell_type": "markdown",
      "source": [
        "1. Enregistrement des données\n"
      ],
      "metadata": {
        "id": "BCVEYh0ECvzp"
      }
    },
    {
      "cell_type": "code",
      "source": [
        "# Données des observations\n",
        "xi = [18, 7, 14, 31, 21, 5, 11, 16, 26, 29]\n",
        "yi = [55, 17, 36, 85, 62, 18, 33, 41, 63, 87]\n",
        "\n",
        "# Création d'un DataFrame\n",
        "data = pd.DataFrame({'xi': xi, 'yi': yi})\n",
        "data.head()"
      ],
      "metadata": {
        "colab": {
          "base_uri": "https://localhost:8080/",
          "height": 206
        },
        "id": "YTgCSw-vCtjz",
        "outputId": "fcd125c6-1704-46dc-9f07-f64fdc6ee3d8"
      },
      "execution_count": null,
      "outputs": [
        {
          "output_type": "execute_result",
          "data": {
            "text/plain": [
              "   xi  yi\n",
              "0  18  55\n",
              "1   7  17\n",
              "2  14  36\n",
              "3  31  85\n",
              "4  21  62"
            ],
            "text/html": [
              "\n",
              "  <div id=\"df-d741dcf0-4569-469a-bd05-8b1d51c505d4\" class=\"colab-df-container\">\n",
              "    <div>\n",
              "<style scoped>\n",
              "    .dataframe tbody tr th:only-of-type {\n",
              "        vertical-align: middle;\n",
              "    }\n",
              "\n",
              "    .dataframe tbody tr th {\n",
              "        vertical-align: top;\n",
              "    }\n",
              "\n",
              "    .dataframe thead th {\n",
              "        text-align: right;\n",
              "    }\n",
              "</style>\n",
              "<table border=\"1\" class=\"dataframe\">\n",
              "  <thead>\n",
              "    <tr style=\"text-align: right;\">\n",
              "      <th></th>\n",
              "      <th>xi</th>\n",
              "      <th>yi</th>\n",
              "    </tr>\n",
              "  </thead>\n",
              "  <tbody>\n",
              "    <tr>\n",
              "      <th>0</th>\n",
              "      <td>18</td>\n",
              "      <td>55</td>\n",
              "    </tr>\n",
              "    <tr>\n",
              "      <th>1</th>\n",
              "      <td>7</td>\n",
              "      <td>17</td>\n",
              "    </tr>\n",
              "    <tr>\n",
              "      <th>2</th>\n",
              "      <td>14</td>\n",
              "      <td>36</td>\n",
              "    </tr>\n",
              "    <tr>\n",
              "      <th>3</th>\n",
              "      <td>31</td>\n",
              "      <td>85</td>\n",
              "    </tr>\n",
              "    <tr>\n",
              "      <th>4</th>\n",
              "      <td>21</td>\n",
              "      <td>62</td>\n",
              "    </tr>\n",
              "  </tbody>\n",
              "</table>\n",
              "</div>\n",
              "    <div class=\"colab-df-buttons\">\n",
              "\n",
              "  <div class=\"colab-df-container\">\n",
              "    <button class=\"colab-df-convert\" onclick=\"convertToInteractive('df-d741dcf0-4569-469a-bd05-8b1d51c505d4')\"\n",
              "            title=\"Convert this dataframe to an interactive table.\"\n",
              "            style=\"display:none;\">\n",
              "\n",
              "  <svg xmlns=\"http://www.w3.org/2000/svg\" height=\"24px\" viewBox=\"0 -960 960 960\">\n",
              "    <path d=\"M120-120v-720h720v720H120Zm60-500h600v-160H180v160Zm220 220h160v-160H400v160Zm0 220h160v-160H400v160ZM180-400h160v-160H180v160Zm440 0h160v-160H620v160ZM180-180h160v-160H180v160Zm440 0h160v-160H620v160Z\"/>\n",
              "  </svg>\n",
              "    </button>\n",
              "\n",
              "  <style>\n",
              "    .colab-df-container {\n",
              "      display:flex;\n",
              "      gap: 12px;\n",
              "    }\n",
              "\n",
              "    .colab-df-convert {\n",
              "      background-color: #E8F0FE;\n",
              "      border: none;\n",
              "      border-radius: 50%;\n",
              "      cursor: pointer;\n",
              "      display: none;\n",
              "      fill: #1967D2;\n",
              "      height: 32px;\n",
              "      padding: 0 0 0 0;\n",
              "      width: 32px;\n",
              "    }\n",
              "\n",
              "    .colab-df-convert:hover {\n",
              "      background-color: #E2EBFA;\n",
              "      box-shadow: 0px 1px 2px rgba(60, 64, 67, 0.3), 0px 1px 3px 1px rgba(60, 64, 67, 0.15);\n",
              "      fill: #174EA6;\n",
              "    }\n",
              "\n",
              "    .colab-df-buttons div {\n",
              "      margin-bottom: 4px;\n",
              "    }\n",
              "\n",
              "    [theme=dark] .colab-df-convert {\n",
              "      background-color: #3B4455;\n",
              "      fill: #D2E3FC;\n",
              "    }\n",
              "\n",
              "    [theme=dark] .colab-df-convert:hover {\n",
              "      background-color: #434B5C;\n",
              "      box-shadow: 0px 1px 3px 1px rgba(0, 0, 0, 0.15);\n",
              "      filter: drop-shadow(0px 1px 2px rgba(0, 0, 0, 0.3));\n",
              "      fill: #FFFFFF;\n",
              "    }\n",
              "  </style>\n",
              "\n",
              "    <script>\n",
              "      const buttonEl =\n",
              "        document.querySelector('#df-d741dcf0-4569-469a-bd05-8b1d51c505d4 button.colab-df-convert');\n",
              "      buttonEl.style.display =\n",
              "        google.colab.kernel.accessAllowed ? 'block' : 'none';\n",
              "\n",
              "      async function convertToInteractive(key) {\n",
              "        const element = document.querySelector('#df-d741dcf0-4569-469a-bd05-8b1d51c505d4');\n",
              "        const dataTable =\n",
              "          await google.colab.kernel.invokeFunction('convertToInteractive',\n",
              "                                                    [key], {});\n",
              "        if (!dataTable) return;\n",
              "\n",
              "        const docLinkHtml = 'Like what you see? Visit the ' +\n",
              "          '<a target=\"_blank\" href=https://colab.research.google.com/notebooks/data_table.ipynb>data table notebook</a>'\n",
              "          + ' to learn more about interactive tables.';\n",
              "        element.innerHTML = '';\n",
              "        dataTable['output_type'] = 'display_data';\n",
              "        await google.colab.output.renderOutput(dataTable, element);\n",
              "        const docLink = document.createElement('div');\n",
              "        docLink.innerHTML = docLinkHtml;\n",
              "        element.appendChild(docLink);\n",
              "      }\n",
              "    </script>\n",
              "  </div>\n",
              "\n",
              "\n",
              "<div id=\"df-c345edbd-da1f-469d-8d1e-92b20f3af990\">\n",
              "  <button class=\"colab-df-quickchart\" onclick=\"quickchart('df-c345edbd-da1f-469d-8d1e-92b20f3af990')\"\n",
              "            title=\"Suggest charts\"\n",
              "            style=\"display:none;\">\n",
              "\n",
              "<svg xmlns=\"http://www.w3.org/2000/svg\" height=\"24px\"viewBox=\"0 0 24 24\"\n",
              "     width=\"24px\">\n",
              "    <g>\n",
              "        <path d=\"M19 3H5c-1.1 0-2 .9-2 2v14c0 1.1.9 2 2 2h14c1.1 0 2-.9 2-2V5c0-1.1-.9-2-2-2zM9 17H7v-7h2v7zm4 0h-2V7h2v10zm4 0h-2v-4h2v4z\"/>\n",
              "    </g>\n",
              "</svg>\n",
              "  </button>\n",
              "\n",
              "<style>\n",
              "  .colab-df-quickchart {\n",
              "      --bg-color: #E8F0FE;\n",
              "      --fill-color: #1967D2;\n",
              "      --hover-bg-color: #E2EBFA;\n",
              "      --hover-fill-color: #174EA6;\n",
              "      --disabled-fill-color: #AAA;\n",
              "      --disabled-bg-color: #DDD;\n",
              "  }\n",
              "\n",
              "  [theme=dark] .colab-df-quickchart {\n",
              "      --bg-color: #3B4455;\n",
              "      --fill-color: #D2E3FC;\n",
              "      --hover-bg-color: #434B5C;\n",
              "      --hover-fill-color: #FFFFFF;\n",
              "      --disabled-bg-color: #3B4455;\n",
              "      --disabled-fill-color: #666;\n",
              "  }\n",
              "\n",
              "  .colab-df-quickchart {\n",
              "    background-color: var(--bg-color);\n",
              "    border: none;\n",
              "    border-radius: 50%;\n",
              "    cursor: pointer;\n",
              "    display: none;\n",
              "    fill: var(--fill-color);\n",
              "    height: 32px;\n",
              "    padding: 0;\n",
              "    width: 32px;\n",
              "  }\n",
              "\n",
              "  .colab-df-quickchart:hover {\n",
              "    background-color: var(--hover-bg-color);\n",
              "    box-shadow: 0 1px 2px rgba(60, 64, 67, 0.3), 0 1px 3px 1px rgba(60, 64, 67, 0.15);\n",
              "    fill: var(--button-hover-fill-color);\n",
              "  }\n",
              "\n",
              "  .colab-df-quickchart-complete:disabled,\n",
              "  .colab-df-quickchart-complete:disabled:hover {\n",
              "    background-color: var(--disabled-bg-color);\n",
              "    fill: var(--disabled-fill-color);\n",
              "    box-shadow: none;\n",
              "  }\n",
              "\n",
              "  .colab-df-spinner {\n",
              "    border: 2px solid var(--fill-color);\n",
              "    border-color: transparent;\n",
              "    border-bottom-color: var(--fill-color);\n",
              "    animation:\n",
              "      spin 1s steps(1) infinite;\n",
              "  }\n",
              "\n",
              "  @keyframes spin {\n",
              "    0% {\n",
              "      border-color: transparent;\n",
              "      border-bottom-color: var(--fill-color);\n",
              "      border-left-color: var(--fill-color);\n",
              "    }\n",
              "    20% {\n",
              "      border-color: transparent;\n",
              "      border-left-color: var(--fill-color);\n",
              "      border-top-color: var(--fill-color);\n",
              "    }\n",
              "    30% {\n",
              "      border-color: transparent;\n",
              "      border-left-color: var(--fill-color);\n",
              "      border-top-color: var(--fill-color);\n",
              "      border-right-color: var(--fill-color);\n",
              "    }\n",
              "    40% {\n",
              "      border-color: transparent;\n",
              "      border-right-color: var(--fill-color);\n",
              "      border-top-color: var(--fill-color);\n",
              "    }\n",
              "    60% {\n",
              "      border-color: transparent;\n",
              "      border-right-color: var(--fill-color);\n",
              "    }\n",
              "    80% {\n",
              "      border-color: transparent;\n",
              "      border-right-color: var(--fill-color);\n",
              "      border-bottom-color: var(--fill-color);\n",
              "    }\n",
              "    90% {\n",
              "      border-color: transparent;\n",
              "      border-bottom-color: var(--fill-color);\n",
              "    }\n",
              "  }\n",
              "</style>\n",
              "\n",
              "  <script>\n",
              "    async function quickchart(key) {\n",
              "      const quickchartButtonEl =\n",
              "        document.querySelector('#' + key + ' button');\n",
              "      quickchartButtonEl.disabled = true;  // To prevent multiple clicks.\n",
              "      quickchartButtonEl.classList.add('colab-df-spinner');\n",
              "      try {\n",
              "        const charts = await google.colab.kernel.invokeFunction(\n",
              "            'suggestCharts', [key], {});\n",
              "      } catch (error) {\n",
              "        console.error('Error during call to suggestCharts:', error);\n",
              "      }\n",
              "      quickchartButtonEl.classList.remove('colab-df-spinner');\n",
              "      quickchartButtonEl.classList.add('colab-df-quickchart-complete');\n",
              "    }\n",
              "    (() => {\n",
              "      let quickchartButtonEl =\n",
              "        document.querySelector('#df-c345edbd-da1f-469d-8d1e-92b20f3af990 button');\n",
              "      quickchartButtonEl.style.display =\n",
              "        google.colab.kernel.accessAllowed ? 'block' : 'none';\n",
              "    })();\n",
              "  </script>\n",
              "</div>\n",
              "\n",
              "    </div>\n",
              "  </div>\n"
            ],
            "application/vnd.google.colaboratory.intrinsic+json": {
              "type": "dataframe",
              "variable_name": "data",
              "summary": "{\n  \"name\": \"data\",\n  \"rows\": 10,\n  \"fields\": [\n    {\n      \"column\": \"xi\",\n      \"properties\": {\n        \"dtype\": \"number\",\n        \"std\": 8,\n        \"min\": 5,\n        \"max\": 31,\n        \"num_unique_values\": 10,\n        \"samples\": [\n          26,\n          7,\n          5\n        ],\n        \"semantic_type\": \"\",\n        \"description\": \"\"\n      }\n    },\n    {\n      \"column\": \"yi\",\n      \"properties\": {\n        \"dtype\": \"number\",\n        \"std\": 24,\n        \"min\": 17,\n        \"max\": 87,\n        \"num_unique_values\": 10,\n        \"samples\": [\n          63,\n          17,\n          18\n        ],\n        \"semantic_type\": \"\",\n        \"description\": \"\"\n      }\n    }\n  ]\n}"
            }
          },
          "metadata": {},
          "execution_count": 59
        }
      ]
    },
    {
      "cell_type": "markdown",
      "source": [
        "Les données sont stockées dans un DataFrame, ce qui facilite leur manipulation pour des opérations statistiques ou graphiques."
      ],
      "metadata": {
        "id": "XFsvtyIFCxCE"
      }
    },
    {
      "cell_type": "markdown",
      "source": [
        "Les observations $ 𝑥𝑖$ représentent les valeurs indépendantes.\n",
        "\n",
        "Les observations $𝑦𝑖$​ représentent les valeurs dépendantes associées."
      ],
      "metadata": {
        "id": "_VuJVPirCg8W"
      }
    },
    {
      "cell_type": "markdown",
      "source": [
        "2. Représentation graphique des données\n"
      ],
      "metadata": {
        "id": "2vfqnX7nC_8h"
      }
    },
    {
      "cell_type": "markdown",
      "source": [
        "Tracons les données $y_i$ en fonction de $x_i$ pour observer une possible relation linéaire."
      ],
      "metadata": {
        "id": "IYPOgNDwH4cS"
      }
    },
    {
      "cell_type": "code",
      "source": [
        "# Graphique de dispersion\n",
        "plt.scatter(data['xi'], data['yi'], color='blue', label='Observations')\n",
        "plt.xlabel('xi')\n",
        "plt.ylabel('yi')\n",
        "plt.title('Représentation de yi en fonction de xi')\n",
        "plt.grid(alpha=0.3)\n",
        "plt.legend()\n",
        "plt.show()"
      ],
      "metadata": {
        "colab": {
          "base_uri": "https://localhost:8080/",
          "height": 472
        },
        "id": "KLf3hkdAC2Lm",
        "outputId": "fe411b0d-1d54-4898-db98-016d123047c5"
      },
      "execution_count": null,
      "outputs": [
        {
          "output_type": "display_data",
          "data": {
            "text/plain": [
              "<Figure size 640x480 with 1 Axes>"
            ],
            "image/png": "[encoded data removed]"
          },
          "metadata": {}
        }
      ]
    },
    {
      "cell_type": "markdown",
      "source": [
        "Les points bleus représentent les données observées."
      ],
      "metadata": {
        "id": "NGcC1PE3bo8U"
      }
    },
    {
      "cell_type": "markdown",
      "source": [
        "Les points semblent suivre une tendance croissante : lorsque $ 𝑥𝑖$ augmente, $𝑦𝑖$ augmente également.\n",
        "  Cette relation suggère l'existence d'une liaison linéaire positive entre les deux variables."
      ],
      "metadata": {
        "id": "yhTdXXmtDo24"
      }
    },
    {
      "cell_type": "markdown",
      "source": [
        "3. Calcul de la droite des moindres carrés\n"
      ],
      "metadata": {
        "id": "x_Tljl7GDRDJ"
      }
    },
    {
      "cell_type": "markdown",
      "source": [
        "Calculons les coefficients $𝑎$ (pente) et $𝑏$ (ordonnée à l'origine) de la droite $𝑦=𝑎⋅𝑥+𝑏 $"
      ],
      "metadata": {
        "id": "kMi1P5yPH7q5"
      }
    },
    {
      "cell_type": "code",
      "source": [
        "# Moyennes des xi et yi\n",
        "x_mean = np.mean(data['xi'])\n",
        "y_mean = np.mean(data['yi'])\n",
        "\n",
        "# Calcul des coefficients\n",
        "a = np.sum((data['xi'] - x_mean) * (data['yi'] - y_mean)) / np.sum((data['xi'] - x_mean)**2)\n",
        "b = y_mean - a * x_mean\n",
        "\n",
        "print(f\"Pente (a) : {a}\")\n",
        "print(f\"Ordonnée à l'origine (b) : {b}\")"
      ],
      "metadata": {
        "colab": {
          "base_uri": "https://localhost:8080/"
        },
        "id": "2hlsEUHIDDbT",
        "outputId": "45b70309-f63f-4884-b1d9-ea61a8429b4c"
      },
      "execution_count": null,
      "outputs": [
        {
          "output_type": "stream",
          "name": "stdout",
          "text": [
            "Pente (a) : 2.7347560975609753\n",
            "Ordonnée à l'origine (b) : 1.0213414634146432\n"
          ]
        }
      ]
    },
    {
      "cell_type": "markdown",
      "source": [
        "La valeur de la pente est $𝑎=2.73.$\n",
        "\n",
        "Cela signifie qu'une augmentation de $𝑥𝑖$ d'une unité entraîne une augmentation moyenne de $𝑦𝑖$ de 2.73."
      ],
      "metadata": {
        "id": "XQnUHr50FYKe"
      }
    },
    {
      "cell_type": "markdown",
      "source": [
        "L'ordonnée à l'origine est $𝑏=1.02$.\n",
        "\n",
        "Cela représente la valeur de $𝑦𝑖$ lorsque $𝑥𝑖=0$. Bien que $𝑥𝑖$ ne soit pas nul dans les données, cette valeur est utile pour définir l'équation de la droite."
      ],
      "metadata": {
        "id": "qmt__JmFFpU6"
      }
    },
    {
      "cell_type": "markdown",
      "source": [
        "La droite des moindres carrés est donnée par :$$\n",
        "𝑦𝑖 = 2.73  𝑥𝑖 + 1.02$$"
      ],
      "metadata": {
        "id": "2CnZT_JQGSfz"
      }
    },
    {
      "cell_type": "markdown",
      "source": [
        "4. Calcul des valeurs estimées $y_i$"
      ],
      "metadata": {
        "id": "BKSutWEiDYl7"
      }
    },
    {
      "cell_type": "markdown",
      "source": [
        "Ajoutons une colonne pour les $y_i$ estimés ($y_i = a \\cdot x_i + b\n",
        "$) dans le DataFrame."
      ],
      "metadata": {
        "id": "aH4B4gqlIMTW"
      }
    },
    {
      "cell_type": "code",
      "source": [
        "# Calcul des valeurs estimées\n",
        "data['yi_estimated'] = a * data['xi'] + b\n",
        "data[['xi', 'yi', 'yi_estimated']]"
      ],
      "metadata": {
        "colab": {
          "base_uri": "https://localhost:8080/",
          "height": 363
        },
        "id": "hQTMQ6HqDUfF",
        "outputId": "9903b270-b65c-421b-be32-4628c4b49899"
      },
      "execution_count": null,
      "outputs": [
        {
          "output_type": "execute_result",
          "data": {
            "text/plain": [
              "   xi  yi  yi_estimated\n",
              "0  18  55     50.246951\n",
              "1   7  17     20.164634\n",
              "2  14  36     39.307927\n",
              "3  31  85     85.798780\n",
              "4  21  62     58.451220\n",
              "5   5  18     14.695122\n",
              "6  11  33     31.103659\n",
              "7  16  41     44.777439\n",
              "8  26  63     72.125000\n",
              "9  29  87     80.329268"
            ],
            "text/html": [
              "\n",
              "  <div id=\"df-71eb30a6-0b98-4270-adcc-a0d8f9dd7314\" class=\"colab-df-container\">\n",
              "    <div>\n",
              "<style scoped>\n",
              "    .dataframe tbody tr th:only-of-type {\n",
              "        vertical-align: middle;\n",
              "    }\n",
              "\n",
              "    .dataframe tbody tr th {\n",
              "        vertical-align: top;\n",
              "    }\n",
              "\n",
              "    .dataframe thead th {\n",
              "        text-align: right;\n",
              "    }\n",
              "</style>\n",
              "<table border=\"1\" class=\"dataframe\">\n",
              "  <thead>\n",
              "    <tr style=\"text-align: right;\">\n",
              "      <th></th>\n",
              "      <th>xi</th>\n",
              "      <th>yi</th>\n",
              "      <th>yi_estimated</th>\n",
              "    </tr>\n",
              "  </thead>\n",
              "  <tbody>\n",
              "    <tr>\n",
              "      <th>0</th>\n",
              "      <td>18</td>\n",
              "      <td>55</td>\n",
              "      <td>50.246951</td>\n",
              "    </tr>\n",
              "    <tr>\n",
              "      <th>1</th>\n",
              "      <td>7</td>\n",
              "      <td>17</td>\n",
              "      <td>20.164634</td>\n",
              "    </tr>\n",
              "    <tr>\n",
              "      <th>2</th>\n",
              "      <td>14</td>\n",
              "      <td>36</td>\n",
              "      <td>39.307927</td>\n",
              "    </tr>\n",
              "    <tr>\n",
              "      <th>3</th>\n",
              "      <td>31</td>\n",
              "      <td>85</td>\n",
              "      <td>85.798780</td>\n",
              "    </tr>\n",
              "    <tr>\n",
              "      <th>4</th>\n",
              "      <td>21</td>\n",
              "      <td>62</td>\n",
              "      <td>58.451220</td>\n",
              "    </tr>\n",
              "    <tr>\n",
              "      <th>5</th>\n",
              "      <td>5</td>\n",
              "      <td>18</td>\n",
              "      <td>14.695122</td>\n",
              "    </tr>\n",
              "    <tr>\n",
              "      <th>6</th>\n",
              "      <td>11</td>\n",
              "      <td>33</td>\n",
              "      <td>31.103659</td>\n",
              "    </tr>\n",
              "    <tr>\n",
              "      <th>7</th>\n",
              "      <td>16</td>\n",
              "      <td>41</td>\n",
              "      <td>44.777439</td>\n",
              "    </tr>\n",
              "    <tr>\n",
              "      <th>8</th>\n",
              "      <td>26</td>\n",
              "      <td>63</td>\n",
              "      <td>72.125000</td>\n",
              "    </tr>\n",
              "    <tr>\n",
              "      <th>9</th>\n",
              "      <td>29</td>\n",
              "      <td>87</td>\n",
              "      <td>80.329268</td>\n",
              "    </tr>\n",
              "  </tbody>\n",
              "</table>\n",
              "</div>\n",
              "    <div class=\"colab-df-buttons\">\n",
              "\n",
              "  <div class=\"colab-df-container\">\n",
              "    <button class=\"colab-df-convert\" onclick=\"convertToInteractive('df-71eb30a6-0b98-4270-adcc-a0d8f9dd7314')\"\n",
              "            title=\"Convert this dataframe to an interactive table.\"\n",
              "            style=\"display:none;\">\n",
              "\n",
              "  <svg xmlns=\"http://www.w3.org/2000/svg\" height=\"24px\" viewBox=\"0 -960 960 960\">\n",
              "    <path d=\"M120-120v-720h720v720H120Zm60-500h600v-160H180v160Zm220 220h160v-160H400v160Zm0 220h160v-160H400v160ZM180-400h160v-160H180v160Zm440 0h160v-160H620v160ZM180-180h160v-160H180v160Zm440 0h160v-160H620v160Z\"/>\n",
              "  </svg>\n",
              "    </button>\n",
              "\n",
              "  <style>\n",
              "    .colab-df-container {\n",
              "      display:flex;\n",
              "      gap: 12px;\n",
              "    }\n",
              "\n",
              "    .colab-df-convert {\n",
              "      background-color: #E8F0FE;\n",
              "      border: none;\n",
              "      border-radius: 50%;\n",
              "      cursor: pointer;\n",
              "      display: none;\n",
              "      fill: #1967D2;\n",
              "      height: 32px;\n",
              "      padding: 0 0 0 0;\n",
              "      width: 32px;\n",
              "    }\n",
              "\n",
              "    .colab-df-convert:hover {\n",
              "      background-color: #E2EBFA;\n",
              "      box-shadow: 0px 1px 2px rgba(60, 64, 67, 0.3), 0px 1px 3px 1px rgba(60, 64, 67, 0.15);\n",
              "      fill: #174EA6;\n",
              "    }\n",
              "\n",
              "    .colab-df-buttons div {\n",
              "      margin-bottom: 4px;\n",
              "    }\n",
              "\n",
              "    [theme=dark] .colab-df-convert {\n",
              "      background-color: #3B4455;\n",
              "      fill: #D2E3FC;\n",
              "    }\n",
              "\n",
              "    [theme=dark] .colab-df-convert:hover {\n",
              "      background-color: #434B5C;\n",
              "      box-shadow: 0px 1px 3px 1px rgba(0, 0, 0, 0.15);\n",
              "      filter: drop-shadow(0px 1px 2px rgba(0, 0, 0, 0.3));\n",
              "      fill: #FFFFFF;\n",
              "    }\n",
              "  </style>\n",
              "\n",
              "    <script>\n",
              "      const buttonEl =\n",
              "        document.querySelector('#df-71eb30a6-0b98-4270-adcc-a0d8f9dd7314 button.colab-df-convert');\n",
              "      buttonEl.style.display =\n",
              "        google.colab.kernel.accessAllowed ? 'block' : 'none';\n",
              "\n",
              "      async function convertToInteractive(key) {\n",
              "        const element = document.querySelector('#df-71eb30a6-0b98-4270-adcc-a0d8f9dd7314');\n",
              "        const dataTable =\n",
              "          await google.colab.kernel.invokeFunction('convertToInteractive',\n",
              "                                                    [key], {});\n",
              "        if (!dataTable) return;\n",
              "\n",
              "        const docLinkHtml = 'Like what you see? Visit the ' +\n",
              "          '<a target=\"_blank\" href=https://colab.research.google.com/notebooks/data_table.ipynb>data table notebook</a>'\n",
              "          + ' to learn more about interactive tables.';\n",
              "        element.innerHTML = '';\n",
              "        dataTable['output_type'] = 'display_data';\n",
              "        await google.colab.output.renderOutput(dataTable, element);\n",
              "        const docLink = document.createElement('div');\n",
              "        docLink.innerHTML = docLinkHtml;\n",
              "        element.appendChild(docLink);\n",
              "      }\n",
              "    </script>\n",
              "  </div>\n",
              "\n",
              "\n",
              "<div id=\"df-ae65f015-355f-47a1-88c5-107df18116a1\">\n",
              "  <button class=\"colab-df-quickchart\" onclick=\"quickchart('df-ae65f015-355f-47a1-88c5-107df18116a1')\"\n",
              "            title=\"Suggest charts\"\n",
              "            style=\"display:none;\">\n",
              "\n",
              "<svg xmlns=\"http://www.w3.org/2000/svg\" height=\"24px\"viewBox=\"0 0 24 24\"\n",
              "     width=\"24px\">\n",
              "    <g>\n",
              "        <path d=\"M19 3H5c-1.1 0-2 .9-2 2v14c0 1.1.9 2 2 2h14c1.1 0 2-.9 2-2V5c0-1.1-.9-2-2-2zM9 17H7v-7h2v7zm4 0h-2V7h2v10zm4 0h-2v-4h2v4z\"/>\n",
              "    </g>\n",
              "</svg>\n",
              "  </button>\n",
              "\n",
              "<style>\n",
              "  .colab-df-quickchart {\n",
              "      --bg-color: #E8F0FE;\n",
              "      --fill-color: #1967D2;\n",
              "      --hover-bg-color: #E2EBFA;\n",
              "      --hover-fill-color: #174EA6;\n",
              "      --disabled-fill-color: #AAA;\n",
              "      --disabled-bg-color: #DDD;\n",
              "  }\n",
              "\n",
              "  [theme=dark] .colab-df-quickchart {\n",
              "      --bg-color: #3B4455;\n",
              "      --fill-color: #D2E3FC;\n",
              "      --hover-bg-color: #434B5C;\n",
              "      --hover-fill-color: #FFFFFF;\n",
              "      --disabled-bg-color: #3B4455;\n",
              "      --disabled-fill-color: #666;\n",
              "  }\n",
              "\n",
              "  .colab-df-quickchart {\n",
              "    background-color: var(--bg-color);\n",
              "    border: none;\n",
              "    border-radius: 50%;\n",
              "    cursor: pointer;\n",
              "    display: none;\n",
              "    fill: var(--fill-color);\n",
              "    height: 32px;\n",
              "    padding: 0;\n",
              "    width: 32px;\n",
              "  }\n",
              "\n",
              "  .colab-df-quickchart:hover {\n",
              "    background-color: var(--hover-bg-color);\n",
              "    box-shadow: 0 1px 2px rgba(60, 64, 67, 0.3), 0 1px 3px 1px rgba(60, 64, 67, 0.15);\n",
              "    fill: var(--button-hover-fill-color);\n",
              "  }\n",
              "\n",
              "  .colab-df-quickchart-complete:disabled,\n",
              "  .colab-df-quickchart-complete:disabled:hover {\n",
              "    background-color: var(--disabled-bg-color);\n",
              "    fill: var(--disabled-fill-color);\n",
              "    box-shadow: none;\n",
              "  }\n",
              "\n",
              "  .colab-df-spinner {\n",
              "    border: 2px solid var(--fill-color);\n",
              "    border-color: transparent;\n",
              "    border-bottom-color: var(--fill-color);\n",
              "    animation:\n",
              "      spin 1s steps(1) infinite;\n",
              "  }\n",
              "\n",
              "  @keyframes spin {\n",
              "    0% {\n",
              "      border-color: transparent;\n",
              "      border-bottom-color: var(--fill-color);\n",
              "      border-left-color: var(--fill-color);\n",
              "    }\n",
              "    20% {\n",
              "      border-color: transparent;\n",
              "      border-left-color: var(--fill-color);\n",
              "      border-top-color: var(--fill-color);\n",
              "    }\n",
              "    30% {\n",
              "      border-color: transparent;\n",
              "      border-left-color: var(--fill-color);\n",
              "      border-top-color: var(--fill-color);\n",
              "      border-right-color: var(--fill-color);\n",
              "    }\n",
              "    40% {\n",
              "      border-color: transparent;\n",
              "      border-right-color: var(--fill-color);\n",
              "      border-top-color: var(--fill-color);\n",
              "    }\n",
              "    60% {\n",
              "      border-color: transparent;\n",
              "      border-right-color: var(--fill-color);\n",
              "    }\n",
              "    80% {\n",
              "      border-color: transparent;\n",
              "      border-right-color: var(--fill-color);\n",
              "      border-bottom-color: var(--fill-color);\n",
              "    }\n",
              "    90% {\n",
              "      border-color: transparent;\n",
              "      border-bottom-color: var(--fill-color);\n",
              "    }\n",
              "  }\n",
              "</style>\n",
              "\n",
              "  <script>\n",
              "    async function quickchart(key) {\n",
              "      const quickchartButtonEl =\n",
              "        document.querySelector('#' + key + ' button');\n",
              "      quickchartButtonEl.disabled = true;  // To prevent multiple clicks.\n",
              "      quickchartButtonEl.classList.add('colab-df-spinner');\n",
              "      try {\n",
              "        const charts = await google.colab.kernel.invokeFunction(\n",
              "            'suggestCharts', [key], {});\n",
              "      } catch (error) {\n",
              "        console.error('Error during call to suggestCharts:', error);\n",
              "      }\n",
              "      quickchartButtonEl.classList.remove('colab-df-spinner');\n",
              "      quickchartButtonEl.classList.add('colab-df-quickchart-complete');\n",
              "    }\n",
              "    (() => {\n",
              "      let quickchartButtonEl =\n",
              "        document.querySelector('#df-ae65f015-355f-47a1-88c5-107df18116a1 button');\n",
              "      quickchartButtonEl.style.display =\n",
              "        google.colab.kernel.accessAllowed ? 'block' : 'none';\n",
              "    })();\n",
              "  </script>\n",
              "</div>\n",
              "\n",
              "    </div>\n",
              "  </div>\n"
            ],
            "application/vnd.google.colaboratory.intrinsic+json": {
              "type": "dataframe",
              "summary": "{\n  \"name\": \"data[['xi', 'yi', 'yi_estimated']]\",\n  \"rows\": 10,\n  \"fields\": [\n    {\n      \"column\": \"xi\",\n      \"properties\": {\n        \"dtype\": \"number\",\n        \"std\": 8,\n        \"min\": 5,\n        \"max\": 31,\n        \"num_unique_values\": 10,\n        \"samples\": [\n          26,\n          7,\n          5\n        ],\n        \"semantic_type\": \"\",\n        \"description\": \"\"\n      }\n    },\n    {\n      \"column\": \"yi\",\n      \"properties\": {\n        \"dtype\": \"number\",\n        \"std\": 24,\n        \"min\": 17,\n        \"max\": 87,\n        \"num_unique_values\": 10,\n        \"samples\": [\n          63,\n          17,\n          18\n        ],\n        \"semantic_type\": \"\",\n        \"description\": \"\"\n      }\n    },\n    {\n      \"column\": \"yi_estimated\",\n      \"properties\": {\n        \"dtype\": \"number\",\n        \"std\": 24.487565286457865,\n        \"min\": 14.69512195121952,\n        \"max\": 85.79878048780488,\n        \"num_unique_values\": 10,\n        \"samples\": [\n          72.125,\n          20.16463414634147,\n          14.69512195121952\n        ],\n        \"semantic_type\": \"\",\n        \"description\": \"\"\n      }\n    }\n  ]\n}"
            }
          },
          "metadata": {},
          "execution_count": 62
        }
      ]
    },
    {
      "cell_type": "markdown",
      "source": [
        "Une nouvelle colonne, yi_estimated, a été ajoutée au DataFrame.\n",
        "Cette colonne contient les valeurs estimées de $𝑦𝑖$  en utilisant l'équation de la droite des moindres carrés :\n",
        "$$\n",
        "\\hat{y}_i = a \\cdot x_i + b\n",
        "$$"
      ],
      "metadata": {
        "id": "Rtz2Cw_6Z2dd"
      }
    },
    {
      "cell_type": "markdown",
      "source": [
        "Les $\\hat{y}_i$​ sont proches des 𝑦𝑖, ce qui confirme que la droite ajuste correctement les données."
      ],
      "metadata": {
        "id": "hOX8OOwDa0j-"
      }
    },
    {
      "cell_type": "markdown",
      "source": [
        "5. Tracé de la droite des moindres carrés\n"
      ],
      "metadata": {
        "id": "iAbn42ujDlCT"
      }
    },
    {
      "cell_type": "markdown",
      "source": [
        "Superposons la droite des moindres carrés sur le graphique des points $y_i$, $x_i$"
      ],
      "metadata": {
        "id": "cttMN91gIQMG"
      }
    },
    {
      "cell_type": "code",
      "source": [
        "# Graphique de la droite\n",
        "plt.scatter(data['xi'], data['yi'], color='blue', label='Observations')\n",
        "plt.plot(data['xi'], data['yi_estimated'], color='red', label='Droite des moindres carrés')\n",
        "plt.xlabel('xi')\n",
        "plt.ylabel('yi')\n",
        "plt.title('Régression linéaire')\n",
        "plt.grid(alpha=0.3)\n",
        "plt.legend()\n",
        "plt.show()"
      ],
      "metadata": {
        "colab": {
          "base_uri": "https://localhost:8080/",
          "height": 472
        },
        "id": "DZox616vDhsl",
        "outputId": "5c2a90d4-1f20-4cb3-9b9b-927f304c9788"
      },
      "execution_count": null,
      "outputs": [
        {
          "output_type": "display_data",
          "data": {
            "text/plain": [
              "<Figure size 640x480 with 1 Axes>"
            ],
            "image/png": "[encoded data removed]"
          },
          "metadata": {}
        }
      ]
    },
    {
      "cell_type": "markdown",
      "source": [
        "La droite rouge représente l'ajustement calculé selon l'équation : $$\\hat{y}_i=2.73⋅𝑥𝑖+1.02$$\n",
        "\n",
        "Elle passe près de la majorité des points, ce qui reflète un ajustement global satisfaisant."
      ],
      "metadata": {
        "id": "6ClgHNLJd1Wz"
      }
    },
    {
      "cell_type": "markdown",
      "source": [
        "6. Estimation pour x=21"
      ],
      "metadata": {
        "id": "FDE7MfhODsDy"
      }
    },
    {
      "cell_type": "markdown",
      "source": [
        "Utilisons la droite pour estimer y pour $x=21$.\n",
        "( Nous calculerons également l'écart résiduel. )"
      ],
      "metadata": {
        "id": "okEiP6s0D1kQ"
      }
    },
    {
      "cell_type": "code",
      "source": [
        "# Estimation pour x = 21\n",
        "x_value = 21\n",
        "y_estimation = a * x_value + b\n",
        "y_observed = data[data['xi'] == x_value]['yi'].values[0]\n",
        "\n",
        "print(f\"Valeur estimée pour x = {x_value} : {y_estimation}\")\n",
        "print(f\"Valeur observée pour x = {x_value} : {y_observed}\")\n",
        "\n",
        "# Résidu\n",
        "residual = y_observed - y_estimation\n",
        "print(f\"Écart résiduel : {residual}\")"
      ],
      "metadata": {
        "colab": {
          "base_uri": "https://localhost:8080/"
        },
        "id": "4e-wpgzkDoHf",
        "outputId": "214a3fc3-554a-4870-b665-89753a4caf51"
      },
      "execution_count": null,
      "outputs": [
        {
          "output_type": "stream",
          "name": "stdout",
          "text": [
            "Valeur estimée pour x = 21 : 58.451219512195124\n",
            "Valeur observée pour x = 21 : 62\n",
            "Écart résiduel : 3.5487804878048763\n"
          ]
        }
      ]
    },
    {
      "cell_type": "markdown",
      "source": [
        "## Résultats obtenus\n",
        "\n",
        "### Valeur estimée $(\\hat{y})$ :\n",
        "Pour $x = 21$, la valeur estimée est donnée par l'équation de la droite des moindres carrés :\n",
        "$$\n",
        "\\hat{y} = 2.73 \\cdot 21 + 1.02 \\approx 58.45\n",
        "$$\n",
        "\n",
        "### Valeur observée $(y)$ :\n",
        "La valeur réellement observée dans les données pour $x = 21$ est :\n",
        "$$\n",
        "y = 62\n",
        "$$"
      ],
      "metadata": {
        "id": "gmGhNNkiBF0N"
      }
    },
    {
      "cell_type": "markdown",
      "source": [
        "7. ### Écart résiduel :\n",
        "Le résidu représente la différence entre la valeur observée\n",
        "𝑦 et la valeur estimée $(\\hat{y})$​ par le modèle de régression. Il mesure la partie de la variabilité de 𝑦 que le modèle ne parvient pas à expliquer.\n",
        "\n",
        "\n",
        "L'écart (ou résidu) entre la valeur observée $(y)$ et la valeur estimée $(\\hat{y})$ est donné par :\n",
        "$$\n",
        "\\text{Residu} = y - \\hat{y} = 62 - 58.45 \\approx 3.55\n",
        "$$\n",
        "\n",
        "\n",
        "\n",
        "\n",
        "---\n",
        "\n",
        "### Interprétation des résultats :\n",
        "1. La valeur estimée $(\\hat{y} = 58.45)$ est proche de la valeur observée $(y = 62)$, ce qui valide la pertinence de la droite des moindres carrés pour ce point.\n",
        "2. L'écart résiduel $(3.55)$ est relativement faible, indiquant que la droite capture bien la relation linéaire entre $x$ et $y$.\n",
        "3. Ce résidu représente la partie de la variabilité de $y$ qui n'est pas expliquée par le modèle linéaire.\n",
        "\n"
      ],
      "metadata": {
        "id": "rBYKfqtaDWC_"
      }
    },
    {
      "cell_type": "markdown",
      "source": [
        "8. ### Vérification de la propriété du centre de gravité\n",
        "\n",
        "Nous vérifions si la droite des moindres carrés passe par le point $(\\bar{x}, \\bar{y})$, où :\n",
        "- $\\bar{x}$ est la moyenne des $x_i$,\n",
        "- $\\bar{y}$ est la moyenne des $y_i$,\n",
        "\n",
        "Pour cela, nous évaluons la droite en $\\bar{x}$ et comparons avec $\\bar{y}$.\n"
      ],
      "metadata": {
        "id": "zHkUHXI8EO7D"
      }
    },
    {
      "cell_type": "markdown",
      "source": [
        "### Calcul de $\\bar{x}$ et $\\bar{y}$\n",
        "La moyenne des $x_i$ $(\\bar{x})$ et des $y_i$ $(\\bar{y})$ est donnée par :\n",
        "$$[\n",
        "\\bar{x} = \\frac{\\sum x_i}{n}, \\quad \\bar{y} = \\frac{\\sum y_i}{n}\n",
        "]$$\n",
        "\n",
        "Dans notre cas, les calculs donnent :$$\n",
        "[\n",
        "\\bar{x} = 18.4, \\quad \\bar{y} = 58.4\n",
        "]$$\n",
        "\n",
        "### Vérification\n",
        "L'équation de la droite des moindres carrés est :$$\n",
        "[\n",
        "\\hat{y} = a \\cdot x + b\n",
        "]$$\n",
        "\n",
        "En substituant $\\bar{x} = 18.4$ dans l'équation de la droite :\n",
        "$$\n",
        "[\n",
        "\\hat{y} = 2.73 \\cdot 18.4 + 1.02 = 58.4\n",
        "]$$\n",
        "\n",
        "Cela montre que :$$\n",
        "[\n",
        "\\hat{y} = \\bar{y}\n",
        "]\n",
        "$$"
      ],
      "metadata": {
        "id": "BeB9XeZmGoPi"
      }
    },
    {
      "cell_type": "code",
      "source": [
        "# Vérification\n",
        "center_gravity = a * x_mean + b\n",
        "print(f\"Valeur de la droite au centre de gravité : {center_gravity}\")\n",
        "print(f\"Moyenne de y (ȳ) : {y_mean}\")\n"
      ],
      "metadata": {
        "colab": {
          "base_uri": "https://localhost:8080/"
        },
        "id": "rQwgqnsLDzJ-",
        "outputId": "a5b1fd70-25c3-4e7f-f235-545abf1187dd"
      },
      "execution_count": null,
      "outputs": [
        {
          "output_type": "stream",
          "name": "stdout",
          "text": [
            "Valeur de la droite au centre de gravité : 49.7\n",
            "Moyenne de y (ȳ) : 49.7\n"
          ]
        }
      ]
    },
    {
      "cell_type": "markdown",
      "source": [
        "### Conclusion pour ce cas\n",
        "La droite des moindres carrés passe bien par le point $(\\bar{x}, \\bar{y})$, ce qui confirme la propriété fondamentale de la régression linéaire."
      ],
      "metadata": {
        "id": "OVwaTEcEEnZN"
      }
    },
    {
      "cell_type": "markdown",
      "source": [
        "# Exercie 4 : Analyse des données COVID-19 au Sénégal"
      ],
      "metadata": {
        "id": "12GD4lriqt1c"
      }
    },
    {
      "cell_type": "markdown",
      "source": [
        "Dans cet exercice, nous utiliserons les données qui se trouve dans le fichier\n",
        "\"regions_cas.csv\", qui contient le nombre de malades de covid-19 par\n",
        "région entre le 29 mars 2020 et le 20 Octobre 2020."
      ],
      "metadata": {
        "id": "1ZXZn51ZK7YS"
      }
    },
    {
      "cell_type": "markdown",
      "source": [
        "Importation des bibliotheques necessaires pour cet exercice:"
      ],
      "metadata": {
        "id": "UGFsPmlRKVjV"
      }
    },
    {
      "cell_type": "code",
      "source": [
        "import pandas as pd"
      ],
      "metadata": {
        "id": "WJr1U_psKcHD"
      },
      "execution_count": null,
      "outputs": []
    },
    {
      "cell_type": "markdown",
      "source": [
        "1. Lecture des données et nettoyage\n",
        "2. Conversion de la variable date en type datetime, et suppression de toutes les lignes ayant des valeurs man-\n",
        "quantes"
      ],
      "metadata": {
        "id": "ctw6fvNutUC6"
      }
    },
    {
      "cell_type": "code",
      "source": [
        "# Installation de gdown\n",
        "\"\"\"Nous utilisons cette bibliotheque pour permettre a tous les utilisateurs de ce Notebook\n",
        "de pouvoir lire les donnees 'regions_cas.csv' directement a un url Groogle Drive\n",
        "ouvert a tout le monde\"\"\"\n",
        "!pip install gdown --quiet\n",
        "\n",
        "import gdown\n",
        "\n",
        "# Téléchargement des données depuis Google Drive\n",
        "url = \"https://drive.google.com/uc?id=1CqPNPpVgukg3LPoI1vaIm1RoVWJpdOXu\"\n",
        "output = \"regions_cas.csv\"\n",
        "gdown.download(url, output, quiet=False)\n",
        "\n",
        "# Chargement des données\n",
        "data = pd.read_csv(output)\n",
        "print(\"\\nDonnées chargées avec succès. Voici un aperçu :\")\n",
        "data.head()"
      ],
      "metadata": {
        "colab": {
          "base_uri": "https://localhost:8080/",
          "height": 414
        },
        "id": "QXT3NPIyKQfr",
        "outputId": "cf9ecb8e-f4c1-47ed-ca83-952c69f511c5"
      },
      "execution_count": null,
      "outputs": [
        {
          "output_type": "stream",
          "name": "stderr",
          "text": [
            "Downloading...\n",
            "From: https://drive.google.com/uc?id=1CqPNPpVgukg3LPoI1vaIm1RoVWJpdOXu\n",
            "To: /content/regions_cas.csv\n",
            "100%|██████████| 10.3k/10.3k [00:00<00:00, 18.7MB/s]"
          ]
        },
        {
          "output_type": "stream",
          "name": "stdout",
          "text": [
            "\n",
            "Données chargées avec succès. Voici un aperçu :\n"
          ]
        },
        {
          "output_type": "stream",
          "name": "stderr",
          "text": [
            "\n"
          ]
        },
        {
          "output_type": "execute_result",
          "data": {
            "text/plain": [
              "         DATE  DAKAR  DIOURBEL  FATICK  KAFFRINE  KAOLACK  KÉDOUGOU  KOLDA  \\\n",
              "0  2020-03-29     85        26       1         0        0         0      0   \n",
              "1  2020-03-31    117        26       1         0        0         0      0   \n",
              "2  2020-04-01    131        26       1         0        0         0      0   \n",
              "3  2020-04-02    136        26       1         0        0         0      0   \n",
              "4  2020-04-03    140        26       1         0        0         0      7   \n",
              "\n",
              "   LOUGA  MATAM  SAINT LOUIS  SÉDHIOU  TAMBACOUNDA  THIÈS  ZIGUINCHOR  \n",
              "0      0      0            2        0            0     24           3  \n",
              "1      0      0            2        0            0     26           3  \n",
              "2      0      0            3        0            0     26           3  \n",
              "3      0      0            3        0            0     26           3  \n",
              "4      0      0            3        0            1     26           3  "
            ],
            "text/html": [
              "\n",
              "  <div id=\"df-8158a031-e245-42fb-b953-5f211da71c74\" class=\"colab-df-container\">\n",
              "    <div>\n",
              "<style scoped>\n",
              "    .dataframe tbody tr th:only-of-type {\n",
              "        vertical-align: middle;\n",
              "    }\n",
              "\n",
              "    .dataframe tbody tr th {\n",
              "        vertical-align: top;\n",
              "    }\n",
              "\n",
              "    .dataframe thead th {\n",
              "        text-align: right;\n",
              "    }\n",
              "</style>\n",
              "<table border=\"1\" class=\"dataframe\">\n",
              "  <thead>\n",
              "    <tr style=\"text-align: right;\">\n",
              "      <th></th>\n",
              "      <th>DATE</th>\n",
              "      <th>DAKAR</th>\n",
              "      <th>DIOURBEL</th>\n",
              "      <th>FATICK</th>\n",
              "      <th>KAFFRINE</th>\n",
              "      <th>KAOLACK</th>\n",
              "      <th>KÉDOUGOU</th>\n",
              "      <th>KOLDA</th>\n",
              "      <th>LOUGA</th>\n",
              "      <th>MATAM</th>\n",
              "      <th>SAINT LOUIS</th>\n",
              "      <th>SÉDHIOU</th>\n",
              "      <th>TAMBACOUNDA</th>\n",
              "      <th>THIÈS</th>\n",
              "      <th>ZIGUINCHOR</th>\n",
              "    </tr>\n",
              "  </thead>\n",
              "  <tbody>\n",
              "    <tr>\n",
              "      <th>0</th>\n",
              "      <td>2020-03-29</td>\n",
              "      <td>85</td>\n",
              "      <td>26</td>\n",
              "      <td>1</td>\n",
              "      <td>0</td>\n",
              "      <td>0</td>\n",
              "      <td>0</td>\n",
              "      <td>0</td>\n",
              "      <td>0</td>\n",
              "      <td>0</td>\n",
              "      <td>2</td>\n",
              "      <td>0</td>\n",
              "      <td>0</td>\n",
              "      <td>24</td>\n",
              "      <td>3</td>\n",
              "    </tr>\n",
              "    <tr>\n",
              "      <th>1</th>\n",
              "      <td>2020-03-31</td>\n",
              "      <td>117</td>\n",
              "      <td>26</td>\n",
              "      <td>1</td>\n",
              "      <td>0</td>\n",
              "      <td>0</td>\n",
              "      <td>0</td>\n",
              "      <td>0</td>\n",
              "      <td>0</td>\n",
              "      <td>0</td>\n",
              "      <td>2</td>\n",
              "      <td>0</td>\n",
              "      <td>0</td>\n",
              "      <td>26</td>\n",
              "      <td>3</td>\n",
              "    </tr>\n",
              "    <tr>\n",
              "      <th>2</th>\n",
              "      <td>2020-04-01</td>\n",
              "      <td>131</td>\n",
              "      <td>26</td>\n",
              "      <td>1</td>\n",
              "      <td>0</td>\n",
              "      <td>0</td>\n",
              "      <td>0</td>\n",
              "      <td>0</td>\n",
              "      <td>0</td>\n",
              "      <td>0</td>\n",
              "      <td>3</td>\n",
              "      <td>0</td>\n",
              "      <td>0</td>\n",
              "      <td>26</td>\n",
              "      <td>3</td>\n",
              "    </tr>\n",
              "    <tr>\n",
              "      <th>3</th>\n",
              "      <td>2020-04-02</td>\n",
              "      <td>136</td>\n",
              "      <td>26</td>\n",
              "      <td>1</td>\n",
              "      <td>0</td>\n",
              "      <td>0</td>\n",
              "      <td>0</td>\n",
              "      <td>0</td>\n",
              "      <td>0</td>\n",
              "      <td>0</td>\n",
              "      <td>3</td>\n",
              "      <td>0</td>\n",
              "      <td>0</td>\n",
              "      <td>26</td>\n",
              "      <td>3</td>\n",
              "    </tr>\n",
              "    <tr>\n",
              "      <th>4</th>\n",
              "      <td>2020-04-03</td>\n",
              "      <td>140</td>\n",
              "      <td>26</td>\n",
              "      <td>1</td>\n",
              "      <td>0</td>\n",
              "      <td>0</td>\n",
              "      <td>0</td>\n",
              "      <td>7</td>\n",
              "      <td>0</td>\n",
              "      <td>0</td>\n",
              "      <td>3</td>\n",
              "      <td>0</td>\n",
              "      <td>1</td>\n",
              "      <td>26</td>\n",
              "      <td>3</td>\n",
              "    </tr>\n",
              "  </tbody>\n",
              "</table>\n",
              "</div>\n",
              "    <div class=\"colab-df-buttons\">\n",
              "\n",
              "  <div class=\"colab-df-container\">\n",
              "    <button class=\"colab-df-convert\" onclick=\"convertToInteractive('df-8158a031-e245-42fb-b953-5f211da71c74')\"\n",
              "            title=\"Convert this dataframe to an interactive table.\"\n",
              "            style=\"display:none;\">\n",
              "\n",
              "  <svg xmlns=\"http://www.w3.org/2000/svg\" height=\"24px\" viewBox=\"0 -960 960 960\">\n",
              "    <path d=\"M120-120v-720h720v720H120Zm60-500h600v-160H180v160Zm220 220h160v-160H400v160Zm0 220h160v-160H400v160ZM180-400h160v-160H180v160Zm440 0h160v-160H620v160ZM180-180h160v-160H180v160Zm440 0h160v-160H620v160Z\"/>\n",
              "  </svg>\n",
              "    </button>\n",
              "\n",
              "  <style>\n",
              "    .colab-df-container {\n",
              "      display:flex;\n",
              "      gap: 12px;\n",
              "    }\n",
              "\n",
              "    .colab-df-convert {\n",
              "      background-color: #E8F0FE;\n",
              "      border: none;\n",
              "      border-radius: 50%;\n",
              "      cursor: pointer;\n",
              "      display: none;\n",
              "      fill: #1967D2;\n",
              "      height: 32px;\n",
              "      padding: 0 0 0 0;\n",
              "      width: 32px;\n",
              "    }\n",
              "\n",
              "    .colab-df-convert:hover {\n",
              "      background-color: #E2EBFA;\n",
              "      box-shadow: 0px 1px 2px rgba(60, 64, 67, 0.3), 0px 1px 3px 1px rgba(60, 64, 67, 0.15);\n",
              "      fill: #174EA6;\n",
              "    }\n",
              "\n",
              "    .colab-df-buttons div {\n",
              "      margin-bottom: 4px;\n",
              "    }\n",
              "\n",
              "    [theme=dark] .colab-df-convert {\n",
              "      background-color: #3B4455;\n",
              "      fill: #D2E3FC;\n",
              "    }\n",
              "\n",
              "    [theme=dark] .colab-df-convert:hover {\n",
              "      background-color: #434B5C;\n",
              "      box-shadow: 0px 1px 3px 1px rgba(0, 0, 0, 0.15);\n",
              "      filter: drop-shadow(0px 1px 2px rgba(0, 0, 0, 0.3));\n",
              "      fill: #FFFFFF;\n",
              "    }\n",
              "  </style>\n",
              "\n",
              "    <script>\n",
              "      const buttonEl =\n",
              "        document.querySelector('#df-8158a031-e245-42fb-b953-5f211da71c74 button.colab-df-convert');\n",
              "      buttonEl.style.display =\n",
              "        google.colab.kernel.accessAllowed ? 'block' : 'none';\n",
              "\n",
              "      async function convertToInteractive(key) {\n",
              "        const element = document.querySelector('#df-8158a031-e245-42fb-b953-5f211da71c74');\n",
              "        const dataTable =\n",
              "          await google.colab.kernel.invokeFunction('convertToInteractive',\n",
              "                                                    [key], {});\n",
              "        if (!dataTable) return;\n",
              "\n",
              "        const docLinkHtml = 'Like what you see? Visit the ' +\n",
              "          '<a target=\"_blank\" href=https://colab.research.google.com/notebooks/data_table.ipynb>data table notebook</a>'\n",
              "          + ' to learn more about interactive tables.';\n",
              "        element.innerHTML = '';\n",
              "        dataTable['output_type'] = 'display_data';\n",
              "        await google.colab.output.renderOutput(dataTable, element);\n",
              "        const docLink = document.createElement('div');\n",
              "        docLink.innerHTML = docLinkHtml;\n",
              "        element.appendChild(docLink);\n",
              "      }\n",
              "    </script>\n",
              "  </div>\n",
              "\n",
              "\n",
              "<div id=\"df-b94fab6e-3d91-431e-9613-d527f08133b2\">\n",
              "  <button class=\"colab-df-quickchart\" onclick=\"quickchart('df-b94fab6e-3d91-431e-9613-d527f08133b2')\"\n",
              "            title=\"Suggest charts\"\n",
              "            style=\"display:none;\">\n",
              "\n",
              "<svg xmlns=\"http://www.w3.org/2000/svg\" height=\"24px\"viewBox=\"0 0 24 24\"\n",
              "     width=\"24px\">\n",
              "    <g>\n",
              "        <path d=\"M19 3H5c-1.1 0-2 .9-2 2v14c0 1.1.9 2 2 2h14c1.1 0 2-.9 2-2V5c0-1.1-.9-2-2-2zM9 17H7v-7h2v7zm4 0h-2V7h2v10zm4 0h-2v-4h2v4z\"/>\n",
              "    </g>\n",
              "</svg>\n",
              "  </button>\n",
              "\n",
              "<style>\n",
              "  .colab-df-quickchart {\n",
              "      --bg-color: #E8F0FE;\n",
              "      --fill-color: #1967D2;\n",
              "      --hover-bg-color: #E2EBFA;\n",
              "      --hover-fill-color: #174EA6;\n",
              "      --disabled-fill-color: #AAA;\n",
              "      --disabled-bg-color: #DDD;\n",
              "  }\n",
              "\n",
              "  [theme=dark] .colab-df-quickchart {\n",
              "      --bg-color: #3B4455;\n",
              "      --fill-color: #D2E3FC;\n",
              "      --hover-bg-color: #434B5C;\n",
              "      --hover-fill-color: #FFFFFF;\n",
              "      --disabled-bg-color: #3B4455;\n",
              "      --disabled-fill-color: #666;\n",
              "  }\n",
              "\n",
              "  .colab-df-quickchart {\n",
              "    background-color: var(--bg-color);\n",
              "    border: none;\n",
              "    border-radius: 50%;\n",
              "    cursor: pointer;\n",
              "    display: none;\n",
              "    fill: var(--fill-color);\n",
              "    height: 32px;\n",
              "    padding: 0;\n",
              "    width: 32px;\n",
              "  }\n",
              "\n",
              "  .colab-df-quickchart:hover {\n",
              "    background-color: var(--hover-bg-color);\n",
              "    box-shadow: 0 1px 2px rgba(60, 64, 67, 0.3), 0 1px 3px 1px rgba(60, 64, 67, 0.15);\n",
              "    fill: var(--button-hover-fill-color);\n",
              "  }\n",
              "\n",
              "  .colab-df-quickchart-complete:disabled,\n",
              "  .colab-df-quickchart-complete:disabled:hover {\n",
              "    background-color: var(--disabled-bg-color);\n",
              "    fill: var(--disabled-fill-color);\n",
              "    box-shadow: none;\n",
              "  }\n",
              "\n",
              "  .colab-df-spinner {\n",
              "    border: 2px solid var(--fill-color);\n",
              "    border-color: transparent;\n",
              "    border-bottom-color: var(--fill-color);\n",
              "    animation:\n",
              "      spin 1s steps(1) infinite;\n",
              "  }\n",
              "\n",
              "  @keyframes spin {\n",
              "    0% {\n",
              "      border-color: transparent;\n",
              "      border-bottom-color: var(--fill-color);\n",
              "      border-left-color: var(--fill-color);\n",
              "    }\n",
              "    20% {\n",
              "      border-color: transparent;\n",
              "      border-left-color: var(--fill-color);\n",
              "      border-top-color: var(--fill-color);\n",
              "    }\n",
              "    30% {\n",
              "      border-color: transparent;\n",
              "      border-left-color: var(--fill-color);\n",
              "      border-top-color: var(--fill-color);\n",
              "      border-right-color: var(--fill-color);\n",
              "    }\n",
              "    40% {\n",
              "      border-color: transparent;\n",
              "      border-right-color: var(--fill-color);\n",
              "      border-top-color: var(--fill-color);\n",
              "    }\n",
              "    60% {\n",
              "      border-color: transparent;\n",
              "      border-right-color: var(--fill-color);\n",
              "    }\n",
              "    80% {\n",
              "      border-color: transparent;\n",
              "      border-right-color: var(--fill-color);\n",
              "      border-bottom-color: var(--fill-color);\n",
              "    }\n",
              "    90% {\n",
              "      border-color: transparent;\n",
              "      border-bottom-color: var(--fill-color);\n",
              "    }\n",
              "  }\n",
              "</style>\n",
              "\n",
              "  <script>\n",
              "    async function quickchart(key) {\n",
              "      const quickchartButtonEl =\n",
              "        document.querySelector('#' + key + ' button');\n",
              "      quickchartButtonEl.disabled = true;  // To prevent multiple clicks.\n",
              "      quickchartButtonEl.classList.add('colab-df-spinner');\n",
              "      try {\n",
              "        const charts = await google.colab.kernel.invokeFunction(\n",
              "            'suggestCharts', [key], {});\n",
              "      } catch (error) {\n",
              "        console.error('Error during call to suggestCharts:', error);\n",
              "      }\n",
              "      quickchartButtonEl.classList.remove('colab-df-spinner');\n",
              "      quickchartButtonEl.classList.add('colab-df-quickchart-complete');\n",
              "    }\n",
              "    (() => {\n",
              "      let quickchartButtonEl =\n",
              "        document.querySelector('#df-b94fab6e-3d91-431e-9613-d527f08133b2 button');\n",
              "      quickchartButtonEl.style.display =\n",
              "        google.colab.kernel.accessAllowed ? 'block' : 'none';\n",
              "    })();\n",
              "  </script>\n",
              "</div>\n",
              "\n",
              "    </div>\n",
              "  </div>\n"
            ],
            "application/vnd.google.colaboratory.intrinsic+json": {
              "type": "dataframe",
              "variable_name": "data",
              "summary": "{\n  \"name\": \"data\",\n  \"rows\": 179,\n  \"fields\": [\n    {\n      \"column\": \"DATE\",\n      \"properties\": {\n        \"dtype\": \"object\",\n        \"num_unique_values\": 179,\n        \"samples\": [\n          \"2020-06-21\",\n          \"2020-04-18\",\n          \"2020-06-07\"\n        ],\n        \"semantic_type\": \"\",\n        \"description\": \"\"\n      }\n    },\n    {\n      \"column\": \"DAKAR\",\n      \"properties\": {\n        \"dtype\": \"number\",\n        \"std\": 3745,\n        \"min\": 85,\n        \"max\": 10537,\n        \"num_unique_values\": 179,\n        \"samples\": [\n          4499,\n          224,\n          3261\n        ],\n        \"semantic_type\": \"\",\n        \"description\": \"\"\n      }\n    },\n    {\n      \"column\": \"DIOURBEL\",\n      \"properties\": {\n        \"dtype\": \"number\",\n        \"std\": 252,\n        \"min\": 26,\n        \"max\": 746,\n        \"num_unique_values\": 130,\n        \"samples\": [\n          470,\n          355,\n          181\n        ],\n        \"semantic_type\": \"\",\n        \"description\": \"\"\n      }\n    },\n    {\n      \"column\": \"FATICK\",\n      \"properties\": {\n        \"dtype\": \"number\",\n        \"std\": 95,\n        \"min\": 1,\n        \"max\": 314,\n        \"num_unique_values\": 58,\n        \"samples\": [\n          1,\n          6,\n          61\n        ],\n        \"semantic_type\": \"\",\n        \"description\": \"\"\n      }\n    },\n    {\n      \"column\": \"KAFFRINE\",\n      \"properties\": {\n        \"dtype\": \"number\",\n        \"std\": 7,\n        \"min\": 0,\n        \"max\": 20,\n        \"num_unique_values\": 17,\n        \"samples\": [\n          0,\n          1,\n          5\n        ],\n        \"semantic_type\": \"\",\n        \"description\": \"\"\n      }\n    },\n    {\n      \"column\": \"KAOLACK\",\n      \"properties\": {\n        \"dtype\": \"number\",\n        \"std\": 102,\n        \"min\": 0,\n        \"max\": 274,\n        \"num_unique_values\": 80,\n        \"samples\": [\n          79,\n          0,\n          53\n        ],\n        \"semantic_type\": \"\",\n        \"description\": \"\"\n      }\n    },\n    {\n      \"column\": \"K\\u00c9DOUGOU\",\n      \"properties\": {\n        \"dtype\": \"number\",\n        \"std\": 84,\n        \"min\": 0,\n        \"max\": 218,\n        \"num_unique_values\": 56,\n        \"samples\": [\n          0,\n          11,\n          116\n        ],\n        \"semantic_type\": \"\",\n        \"description\": \"\"\n      }\n    },\n    {\n      \"column\": \"KOLDA\",\n      \"properties\": {\n        \"dtype\": \"number\",\n        \"std\": 73,\n        \"min\": 0,\n        \"max\": 215,\n        \"num_unique_values\": 56,\n        \"samples\": [\n          0,\n          13,\n          169\n        ],\n        \"semantic_type\": \"\",\n        \"description\": \"\"\n      }\n    },\n    {\n      \"column\": \"LOUGA\",\n      \"properties\": {\n        \"dtype\": \"number\",\n        \"std\": 16,\n        \"min\": 0,\n        \"max\": 72,\n        \"num_unique_values\": 36,\n        \"samples\": [\n          72,\n          38,\n          56\n        ],\n        \"semantic_type\": \"\",\n        \"description\": \"\"\n      }\n    },\n    {\n      \"column\": \"MATAM\",\n      \"properties\": {\n        \"dtype\": \"number\",\n        \"std\": 33,\n        \"min\": 0,\n        \"max\": 92,\n        \"num_unique_values\": 31,\n        \"samples\": [\n          84,\n          55,\n          76\n        ],\n        \"semantic_type\": \"\",\n        \"description\": \"\"\n      }\n    },\n    {\n      \"column\": \"SAINT LOUIS\",\n      \"properties\": {\n        \"dtype\": \"number\",\n        \"std\": 113,\n        \"min\": 2,\n        \"max\": 298,\n        \"num_unique_values\": 77,\n        \"samples\": [\n          7,\n          139,\n          23\n        ],\n        \"semantic_type\": \"\",\n        \"description\": \"\"\n      }\n    },\n    {\n      \"column\": \"S\\u00c9DHIOU\",\n      \"properties\": {\n        \"dtype\": \"number\",\n        \"std\": 49,\n        \"min\": 0,\n        \"max\": 151,\n        \"num_unique_values\": 36,\n        \"samples\": [\n          151,\n          98,\n          135\n        ],\n        \"semantic_type\": \"\",\n        \"description\": \"\"\n      }\n    },\n    {\n      \"column\": \"TAMBACOUNDA\",\n      \"properties\": {\n        \"dtype\": \"number\",\n        \"std\": 29,\n        \"min\": 0,\n        \"max\": 111,\n        \"num_unique_values\": 35,\n        \"samples\": [\n          96,\n          59,\n          91\n        ],\n        \"semantic_type\": \"\",\n        \"description\": \"\"\n      }\n    },\n    {\n      \"column\": \"THI\\u00c8S\",\n      \"properties\": {\n        \"dtype\": \"number\",\n        \"std\": 663,\n        \"min\": 24,\n        \"max\": 1886,\n        \"num_unique_values\": 146,\n        \"samples\": [\n          368,\n          1448,\n          173\n        ],\n        \"semantic_type\": \"\",\n        \"description\": \"\"\n      }\n    },\n    {\n      \"column\": \"ZIGUINCHOR\",\n      \"properties\": {\n        \"dtype\": \"number\",\n        \"std\": 217,\n        \"min\": 3,\n        \"max\": 566,\n        \"num_unique_values\": 106,\n        \"samples\": [\n          561,\n          21,\n          14\n        ],\n        \"semantic_type\": \"\",\n        \"description\": \"\"\n      }\n    }\n  ]\n}"
            }
          },
          "metadata": {},
          "execution_count": 67
        }
      ]
    },
    {
      "cell_type": "code",
      "source": [
        "# Conversion de la colonne 'DATE' en datetime\n",
        "data['DATE'] = pd.to_datetime(data['DATE'], errors='coerce')\n",
        "\n",
        "# Suppression des valeurs manquantes\n",
        "data = data.dropna()\n",
        "\n",
        "# Nettoyage des noms de colonnes et suppression des accents\n",
        "data.columns = data.columns.str.normalize('NFKD').str.encode('ascii', errors='ignore').str.decode('utf-8')\n",
        "data.columns = data.columns.str.replace('.', '', regex=False).str.capitalize()\n",
        "\n",
        "print(f\"Après nettoyage, voici les informations des données :\")\n",
        "data.info()"
      ],
      "metadata": {
        "colab": {
          "base_uri": "https://localhost:8080/"
        },
        "id": "u3p7gOazKR5D",
        "outputId": "254c68a4-0ed0-41d6-985a-a203489ca30e"
      },
      "execution_count": null,
      "outputs": [
        {
          "output_type": "stream",
          "name": "stdout",
          "text": [
            "Après nettoyage, voici les informations des données :\n",
            "<class 'pandas.core.frame.DataFrame'>\n",
            "RangeIndex: 179 entries, 0 to 178\n",
            "Data columns (total 15 columns):\n",
            " #   Column       Non-Null Count  Dtype         \n",
            "---  ------       --------------  -----         \n",
            " 0   Date         179 non-null    datetime64[ns]\n",
            " 1   Dakar        179 non-null    int64         \n",
            " 2   Diourbel     179 non-null    int64         \n",
            " 3   Fatick       179 non-null    int64         \n",
            " 4   Kaffrine     179 non-null    int64         \n",
            " 5   Kaolack      179 non-null    int64         \n",
            " 6   Kedougou     179 non-null    int64         \n",
            " 7   Kolda        179 non-null    int64         \n",
            " 8   Louga        179 non-null    int64         \n",
            " 9   Matam        179 non-null    int64         \n",
            " 10  Saint louis  179 non-null    int64         \n",
            " 11  Sedhiou      179 non-null    int64         \n",
            " 12  Tambacounda  179 non-null    int64         \n",
            " 13  Thies        179 non-null    int64         \n",
            " 14  Ziguinchor   179 non-null    int64         \n",
            "dtypes: datetime64[ns](1), int64(14)\n",
            "memory usage: 21.1 KB\n"
          ]
        }
      ]
    },
    {
      "cell_type": "markdown",
      "source": [
        "3. Créons une fonction qui retourne un dataframe à 3 colonnes (date, region, maladesparegion)."
      ],
      "metadata": {
        "id": "CQK11Wloi8Q-"
      }
    },
    {
      "cell_type": "code",
      "source": [
        "# Transformation des données en format long\n",
        "def prepare_data(data):\n",
        "    melted_data = data.melt(id_vars=['Date'], var_name='Region', value_name='Maladesparregion')\n",
        "    return melted_data\n",
        "\n",
        "# Application de la transformation\n",
        "df_prepared = prepare_data(data)\n",
        "\n",
        "# Nettoyage des noms de régions\n",
        "df_prepared['Region'] = (\n",
        "    df_prepared['Region']\n",
        "    .str.normalize('NFKD')\n",
        "    .str.encode('ascii', errors='ignore')\n",
        "    .str.decode('utf-8')\n",
        "    .str.capitalize()\n",
        ")\n",
        "\n",
        "print(\"Données transformées avec succès. Voici un aperçu :\")\n",
        "df_prepared.head()\n"
      ],
      "metadata": {
        "colab": {
          "base_uri": "https://localhost:8080/",
          "height": 223
        },
        "id": "XDpwnBS0Kcss",
        "outputId": "3872a8e7-0583-4826-f2e5-d6dd1e4bf849"
      },
      "execution_count": null,
      "outputs": [
        {
          "output_type": "stream",
          "name": "stdout",
          "text": [
            "Données transformées avec succès. Voici un aperçu :\n"
          ]
        },
        {
          "output_type": "execute_result",
          "data": {
            "text/plain": [
              "        Date Region  Maladesparregion\n",
              "0 2020-03-29  Dakar                85\n",
              "1 2020-03-31  Dakar               117\n",
              "2 2020-04-01  Dakar               131\n",
              "3 2020-04-02  Dakar               136\n",
              "4 2020-04-03  Dakar               140"
            ],
            "text/html": [
              "\n",
              "  <div id=\"df-285b6f15-36bf-4429-aea0-26312d936250\" class=\"colab-df-container\">\n",
              "    <div>\n",
              "<style scoped>\n",
              "    .dataframe tbody tr th:only-of-type {\n",
              "        vertical-align: middle;\n",
              "    }\n",
              "\n",
              "    .dataframe tbody tr th {\n",
              "        vertical-align: top;\n",
              "    }\n",
              "\n",
              "    .dataframe thead th {\n",
              "        text-align: right;\n",
              "    }\n",
              "</style>\n",
              "<table border=\"1\" class=\"dataframe\">\n",
              "  <thead>\n",
              "    <tr style=\"text-align: right;\">\n",
              "      <th></th>\n",
              "      <th>Date</th>\n",
              "      <th>Region</th>\n",
              "      <th>Maladesparregion</th>\n",
              "    </tr>\n",
              "  </thead>\n",
              "  <tbody>\n",
              "    <tr>\n",
              "      <th>0</th>\n",
              "      <td>2020-03-29</td>\n",
              "      <td>Dakar</td>\n",
              "      <td>85</td>\n",
              "    </tr>\n",
              "    <tr>\n",
              "      <th>1</th>\n",
              "      <td>2020-03-31</td>\n",
              "      <td>Dakar</td>\n",
              "      <td>117</td>\n",
              "    </tr>\n",
              "    <tr>\n",
              "      <th>2</th>\n",
              "      <td>2020-04-01</td>\n",
              "      <td>Dakar</td>\n",
              "      <td>131</td>\n",
              "    </tr>\n",
              "    <tr>\n",
              "      <th>3</th>\n",
              "      <td>2020-04-02</td>\n",
              "      <td>Dakar</td>\n",
              "      <td>136</td>\n",
              "    </tr>\n",
              "    <tr>\n",
              "      <th>4</th>\n",
              "      <td>2020-04-03</td>\n",
              "      <td>Dakar</td>\n",
              "      <td>140</td>\n",
              "    </tr>\n",
              "  </tbody>\n",
              "</table>\n",
              "</div>\n",
              "    <div class=\"colab-df-buttons\">\n",
              "\n",
              "  <div class=\"colab-df-container\">\n",
              "    <button class=\"colab-df-convert\" onclick=\"convertToInteractive('df-285b6f15-36bf-4429-aea0-26312d936250')\"\n",
              "            title=\"Convert this dataframe to an interactive table.\"\n",
              "            style=\"display:none;\">\n",
              "\n",
              "  <svg xmlns=\"http://www.w3.org/2000/svg\" height=\"24px\" viewBox=\"0 -960 960 960\">\n",
              "    <path d=\"M120-120v-720h720v720H120Zm60-500h600v-160H180v160Zm220 220h160v-160H400v160Zm0 220h160v-160H400v160ZM180-400h160v-160H180v160Zm440 0h160v-160H620v160ZM180-180h160v-160H180v160Zm440 0h160v-160H620v160Z\"/>\n",
              "  </svg>\n",
              "    </button>\n",
              "\n",
              "  <style>\n",
              "    .colab-df-container {\n",
              "      display:flex;\n",
              "      gap: 12px;\n",
              "    }\n",
              "\n",
              "    .colab-df-convert {\n",
              "      background-color: #E8F0FE;\n",
              "      border: none;\n",
              "      border-radius: 50%;\n",
              "      cursor: pointer;\n",
              "      display: none;\n",
              "      fill: #1967D2;\n",
              "      height: 32px;\n",
              "      padding: 0 0 0 0;\n",
              "      width: 32px;\n",
              "    }\n",
              "\n",
              "    .colab-df-convert:hover {\n",
              "      background-color: #E2EBFA;\n",
              "      box-shadow: 0px 1px 2px rgba(60, 64, 67, 0.3), 0px 1px 3px 1px rgba(60, 64, 67, 0.15);\n",
              "      fill: #174EA6;\n",
              "    }\n",
              "\n",
              "    .colab-df-buttons div {\n",
              "      margin-bottom: 4px;\n",
              "    }\n",
              "\n",
              "    [theme=dark] .colab-df-convert {\n",
              "      background-color: #3B4455;\n",
              "      fill: #D2E3FC;\n",
              "    }\n",
              "\n",
              "    [theme=dark] .colab-df-convert:hover {\n",
              "      background-color: #434B5C;\n",
              "      box-shadow: 0px 1px 3px 1px rgba(0, 0, 0, 0.15);\n",
              "      filter: drop-shadow(0px 1px 2px rgba(0, 0, 0, 0.3));\n",
              "      fill: #FFFFFF;\n",
              "    }\n",
              "  </style>\n",
              "\n",
              "    <script>\n",
              "      const buttonEl =\n",
              "        document.querySelector('#df-285b6f15-36bf-4429-aea0-26312d936250 button.colab-df-convert');\n",
              "      buttonEl.style.display =\n",
              "        google.colab.kernel.accessAllowed ? 'block' : 'none';\n",
              "\n",
              "      async function convertToInteractive(key) {\n",
              "        const element = document.querySelector('#df-285b6f15-36bf-4429-aea0-26312d936250');\n",
              "        const dataTable =\n",
              "          await google.colab.kernel.invokeFunction('convertToInteractive',\n",
              "                                                    [key], {});\n",
              "        if (!dataTable) return;\n",
              "\n",
              "        const docLinkHtml = 'Like what you see? Visit the ' +\n",
              "          '<a target=\"_blank\" href=https://colab.research.google.com/notebooks/data_table.ipynb>data table notebook</a>'\n",
              "          + ' to learn more about interactive tables.';\n",
              "        element.innerHTML = '';\n",
              "        dataTable['output_type'] = 'display_data';\n",
              "        await google.colab.output.renderOutput(dataTable, element);\n",
              "        const docLink = document.createElement('div');\n",
              "        docLink.innerHTML = docLinkHtml;\n",
              "        element.appendChild(docLink);\n",
              "      }\n",
              "    </script>\n",
              "  </div>\n",
              "\n",
              "\n",
              "<div id=\"df-a764b019-bda7-470b-88cb-7d8798a80e22\">\n",
              "  <button class=\"colab-df-quickchart\" onclick=\"quickchart('df-a764b019-bda7-470b-88cb-7d8798a80e22')\"\n",
              "            title=\"Suggest charts\"\n",
              "            style=\"display:none;\">\n",
              "\n",
              "<svg xmlns=\"http://www.w3.org/2000/svg\" height=\"24px\"viewBox=\"0 0 24 24\"\n",
              "     width=\"24px\">\n",
              "    <g>\n",
              "        <path d=\"M19 3H5c-1.1 0-2 .9-2 2v14c0 1.1.9 2 2 2h14c1.1 0 2-.9 2-2V5c0-1.1-.9-2-2-2zM9 17H7v-7h2v7zm4 0h-2V7h2v10zm4 0h-2v-4h2v4z\"/>\n",
              "    </g>\n",
              "</svg>\n",
              "  </button>\n",
              "\n",
              "<style>\n",
              "  .colab-df-quickchart {\n",
              "      --bg-color: #E8F0FE;\n",
              "      --fill-color: #1967D2;\n",
              "      --hover-bg-color: #E2EBFA;\n",
              "      --hover-fill-color: #174EA6;\n",
              "      --disabled-fill-color: #AAA;\n",
              "      --disabled-bg-color: #DDD;\n",
              "  }\n",
              "\n",
              "  [theme=dark] .colab-df-quickchart {\n",
              "      --bg-color: #3B4455;\n",
              "      --fill-color: #D2E3FC;\n",
              "      --hover-bg-color: #434B5C;\n",
              "      --hover-fill-color: #FFFFFF;\n",
              "      --disabled-bg-color: #3B4455;\n",
              "      --disabled-fill-color: #666;\n",
              "  }\n",
              "\n",
              "  .colab-df-quickchart {\n",
              "    background-color: var(--bg-color);\n",
              "    border: none;\n",
              "    border-radius: 50%;\n",
              "    cursor: pointer;\n",
              "    display: none;\n",
              "    fill: var(--fill-color);\n",
              "    height: 32px;\n",
              "    padding: 0;\n",
              "    width: 32px;\n",
              "  }\n",
              "\n",
              "  .colab-df-quickchart:hover {\n",
              "    background-color: var(--hover-bg-color);\n",
              "    box-shadow: 0 1px 2px rgba(60, 64, 67, 0.3), 0 1px 3px 1px rgba(60, 64, 67, 0.15);\n",
              "    fill: var(--button-hover-fill-color);\n",
              "  }\n",
              "\n",
              "  .colab-df-quickchart-complete:disabled,\n",
              "  .colab-df-quickchart-complete:disabled:hover {\n",
              "    background-color: var(--disabled-bg-color);\n",
              "    fill: var(--disabled-fill-color);\n",
              "    box-shadow: none;\n",
              "  }\n",
              "\n",
              "  .colab-df-spinner {\n",
              "    border: 2px solid var(--fill-color);\n",
              "    border-color: transparent;\n",
              "    border-bottom-color: var(--fill-color);\n",
              "    animation:\n",
              "      spin 1s steps(1) infinite;\n",
              "  }\n",
              "\n",
              "  @keyframes spin {\n",
              "    0% {\n",
              "      border-color: transparent;\n",
              "      border-bottom-color: var(--fill-color);\n",
              "      border-left-color: var(--fill-color);\n",
              "    }\n",
              "    20% {\n",
              "      border-color: transparent;\n",
              "      border-left-color: var(--fill-color);\n",
              "      border-top-color: var(--fill-color);\n",
              "    }\n",
              "    30% {\n",
              "      border-color: transparent;\n",
              "      border-left-color: var(--fill-color);\n",
              "      border-top-color: var(--fill-color);\n",
              "      border-right-color: var(--fill-color);\n",
              "    }\n",
              "    40% {\n",
              "      border-color: transparent;\n",
              "      border-right-color: var(--fill-color);\n",
              "      border-top-color: var(--fill-color);\n",
              "    }\n",
              "    60% {\n",
              "      border-color: transparent;\n",
              "      border-right-color: var(--fill-color);\n",
              "    }\n",
              "    80% {\n",
              "      border-color: transparent;\n",
              "      border-right-color: var(--fill-color);\n",
              "      border-bottom-color: var(--fill-color);\n",
              "    }\n",
              "    90% {\n",
              "      border-color: transparent;\n",
              "      border-bottom-color: var(--fill-color);\n",
              "    }\n",
              "  }\n",
              "</style>\n",
              "\n",
              "  <script>\n",
              "    async function quickchart(key) {\n",
              "      const quickchartButtonEl =\n",
              "        document.querySelector('#' + key + ' button');\n",
              "      quickchartButtonEl.disabled = true;  // To prevent multiple clicks.\n",
              "      quickchartButtonEl.classList.add('colab-df-spinner');\n",
              "      try {\n",
              "        const charts = await google.colab.kernel.invokeFunction(\n",
              "            'suggestCharts', [key], {});\n",
              "      } catch (error) {\n",
              "        console.error('Error during call to suggestCharts:', error);\n",
              "      }\n",
              "      quickchartButtonEl.classList.remove('colab-df-spinner');\n",
              "      quickchartButtonEl.classList.add('colab-df-quickchart-complete');\n",
              "    }\n",
              "    (() => {\n",
              "      let quickchartButtonEl =\n",
              "        document.querySelector('#df-a764b019-bda7-470b-88cb-7d8798a80e22 button');\n",
              "      quickchartButtonEl.style.display =\n",
              "        google.colab.kernel.accessAllowed ? 'block' : 'none';\n",
              "    })();\n",
              "  </script>\n",
              "</div>\n",
              "\n",
              "    </div>\n",
              "  </div>\n"
            ],
            "application/vnd.google.colaboratory.intrinsic+json": {
              "type": "dataframe",
              "variable_name": "df_prepared",
              "summary": "{\n  \"name\": \"df_prepared\",\n  \"rows\": 2506,\n  \"fields\": [\n    {\n      \"column\": \"Date\",\n      \"properties\": {\n        \"dtype\": \"date\",\n        \"min\": \"2020-03-29 00:00:00\",\n        \"max\": \"2020-10-20 00:00:00\",\n        \"num_unique_values\": 179,\n        \"samples\": [\n          \"2020-06-21 00:00:00\",\n          \"2020-04-18 00:00:00\",\n          \"2020-06-07 00:00:00\"\n        ],\n        \"semantic_type\": \"\",\n        \"description\": \"\"\n      }\n    },\n    {\n      \"column\": \"Region\",\n      \"properties\": {\n        \"dtype\": \"category\",\n        \"num_unique_values\": 14,\n        \"samples\": [\n          \"Saint louis\",\n          \"Tambacounda\",\n          \"Dakar\"\n        ],\n        \"semantic_type\": \"\",\n        \"description\": \"\"\n      }\n    },\n    {\n      \"column\": \"Maladesparregion\",\n      \"properties\": {\n        \"dtype\": \"number\",\n        \"std\": 1687,\n        \"min\": 0,\n        \"max\": 10537,\n        \"num_unique_values\": 646,\n        \"samples\": [\n          549,\n          68,\n          87\n        ],\n        \"semantic_type\": \"\",\n        \"description\": \"\"\n      }\n    }\n  ]\n}"
            }
          },
          "metadata": {},
          "execution_count": 69
        }
      ]
    },
    {
      "cell_type": "markdown",
      "source": [
        "4. Supposons que la variable maladesparegion suit une loi de Poisson de paramètre λ. Estimons λ."
      ],
      "metadata": {
        "id": "0rStgiDhjPGu"
      }
    },
    {
      "cell_type": "code",
      "source": [
        "# Calcul de la moyenne (λ)\n",
        "lambda_estimate = df_prepared['Maladesparregion'].mean()\n",
        "print(f\"Estimation de λ (loi de Poisson) : {lambda_estimate:.2f}\")\n"
      ],
      "metadata": {
        "colab": {
          "base_uri": "https://localhost:8080/"
        },
        "id": "vnZjNOUlKlKU",
        "outputId": "74953335-44d9-438f-a5fd-9400e40058e0"
      },
      "execution_count": null,
      "outputs": [
        {
          "output_type": "stream",
          "name": "stdout",
          "text": [
            "Estimation de λ (loi de Poisson) : 534.43\n"
          ]
        }
      ]
    },
    {
      "cell_type": "markdown",
      "source": [
        "\n",
        "##5. Test statistique pour vérifier si maladesparegion suit une loi de Poisson\n",
        "Explication :\n",
        "La loi de Poisson suppose que la moyenne et la variance sont égales.\n",
        "Nous utiliserons un test du chi² pour vérifier l'adéquation des données avec une loi de Poisson.\n"
      ],
      "metadata": {
        "id": "AjtpE_AXMoMR"
      }
    },
    {
      "cell_type": "markdown",
      "source": [
        "Vérification de la moyenne et de la variance"
      ],
      "metadata": {
        "id": "D51IrBFLMyLD"
      }
    },
    {
      "cell_type": "code",
      "source": [
        "# Moyenne et variance\n",
        "mean = df_prepared['Maladesparregion'].mean()\n",
        "variance = df_prepared['Maladesparregion'].var()\n",
        "\n",
        "print(f\"Moyenne : {mean:.2f}\")\n",
        "print(f\"Variance : {variance:.2f}\")\n",
        "\n",
        "if abs(mean - variance) < 1e-2:\n",
        "    print(\"La moyenne et la variance sont proches. Les données peuvent suivre une loi de Poisson.\")\n",
        "else:\n",
        "    print(\"La moyenne et la variance diffèrent. Les données ne suivent probablement pas une loi de Poisson.\")\n"
      ],
      "metadata": {
        "colab": {
          "base_uri": "https://localhost:8080/"
        },
        "id": "m4M88WRfMx7K",
        "outputId": "556e7d6c-9c3b-410d-f594-95f03fb5fa99"
      },
      "execution_count": null,
      "outputs": [
        {
          "output_type": "stream",
          "name": "stdout",
          "text": [
            "Moyenne : 534.43\n",
            "Variance : 2848453.91\n",
            "La moyenne et la variance diffèrent. Les données ne suivent probablement pas une loi de Poisson.\n"
          ]
        }
      ]
    },
    {
      "cell_type": "markdown",
      "source": [
        "La variance est beaucoup plus grande que la moyenne, ce qui contredit l'hypothèse clé de la loi de Poisson (\n",
        "moyenne\n",
        "=\n",
        "variance )."
      ],
      "metadata": {
        "id": "dp-D_CJbOZJr"
      }
    },
    {
      "cell_type": "markdown",
      "source": [
        "Effectuons un test du chi²"
      ],
      "metadata": {
        "id": "O0SBR3v2M7Gh"
      }
    },
    {
      "cell_type": "code",
      "source": [
        "from scipy.stats import chisquare, poisson\n",
        "import numpy as np\n",
        "\n",
        "# Définissons les plages de valeurs\n",
        "bins = np.histogram_bin_edges(df_prepared['Maladesparregion'], bins='auto')\n",
        "\n",
        "# Regroupons les fréquences observées\n",
        "observed_binned, _ = np.histogram(df_prepared['Maladesparregion'], bins=bins)\n",
        "\n",
        "# Regroupons les fréquences attendues (loi de Poisson)\n",
        "poisson_dist_binned = []\n",
        "for i in range(len(bins) - 1):\n",
        "    lower, upper = bins[i], bins[i + 1]\n",
        "    prob = poisson.cdf(upper, mu=mean) - poisson.cdf(lower, mu=mean)\n",
        "    poisson_dist_binned.append(prob * len(df_prepared))\n",
        "\n",
        "# Conversion en tableau numpy\n",
        "poisson_dist_binned = np.array(poisson_dist_binned)\n",
        "\n",
        "# Pour eviter les erreurs (de divisions par '0'), supprimons les plages avec des fréquences attendues nulles\n",
        "valid_bins = poisson_dist_binned > 0\n",
        "observed_binned = observed_binned[valid_bins]\n",
        "poisson_dist_binned = poisson_dist_binned[valid_bins]\n",
        "\n",
        "# Normalisation pour correspondre aux fréquences observées\n",
        "poisson_dist_binned *= observed_binned.sum() / poisson_dist_binned.sum()\n",
        "\n",
        "# Test du chi²\n",
        "chi2_stat, p_value = chisquare(f_obs=observed_binned, f_exp=poisson_dist_binned)\n",
        "\n",
        "print(f\"Statistique du chi² : {chi2_stat:.2f}\")\n",
        "print(f\"P-valeur : {p_value:.4f}\")\n",
        "\n",
        "if p_value < 0.05:\n",
        "    print(\"Les données ne suivent pas une loi de Poisson (rejet de l'hypothèse nulle).\")\n",
        "else:\n",
        "    print(\"Les données suivent une loi de Poisson (hypothèse nulle acceptée).\")\n"
      ],
      "metadata": {
        "colab": {
          "base_uri": "https://localhost:8080/"
        },
        "id": "b1i4Rd3zM5RK",
        "outputId": "6e6349d2-7bc4-4bb5-b4b3-52759c8054c5"
      },
      "execution_count": null,
      "outputs": [
        {
          "output_type": "stream",
          "name": "stdout",
          "text": [
            "Statistique du chi² : 2529860491926600399172448238382171598225735657554108679337412926714121439604653616604082608410041668319818116454038859986901280767143840359830666627229538198784164120620383274785931526144.00\n",
            "P-valeur : 0.0000\n",
            "Les données ne suivent pas une loi de Poisson (rejet de l'hypothèse nulle).\n"
          ]
        }
      ]
    },
    {
      "cell_type": "markdown",
      "source": [
        "La statistique du chi² est astronomiquement élevée.\n",
        "La p-valeur est 0.0000, ce qui rejette catégoriquement l'hypothèse que les données suivent une loi de Poisson.\n",
        "\n",
        "Conclusion : Les données ne suivent pas une loi de Poisson."
      ],
      "metadata": {
        "id": "pTBXXyZxOhLi"
      }
    },
    {
      "cell_type": "markdown",
      "source": [
        "6. Supposons que la variable maladesparegion suit une loi de Binomiale négative de paramètres r et p.\n",
        "\n",
        "Estimons r et p."
      ],
      "metadata": {
        "id": "27SSDVKoKmcG"
      }
    },
    {
      "cell_type": "code",
      "source": [
        "# Vérification pour la loi Binomiale Négative\n",
        "if variance > mean:\n",
        "    # Estimation des paramètres\n",
        "    p_estimate = mean / variance\n",
        "    r_estimate = mean**2 / (variance - mean)\n",
        "    print(f\"Paramètre r (taille) : {r_estimate:.2f}\")\n",
        "    print(f\"Paramètre p (probabilité) : {p_estimate:.2f}\")\n",
        "else:\n",
        "    print(\"La variance est inférieure ou égale à la moyenne. La loi Binomiale Négative n'est pas nécessaire.\")\n"
      ],
      "metadata": {
        "colab": {
          "base_uri": "https://localhost:8080/"
        },
        "id": "ppSCHaOiMhQm",
        "outputId": "c78352dd-a281-43c4-d194-d220b3a1161e"
      },
      "execution_count": null,
      "outputs": [
        {
          "output_type": "stream",
          "name": "stdout",
          "text": [
            "Paramètre r (taille) : 0.10\n",
            "Paramètre p (probabilité) : 0.00\n"
          ]
        }
      ]
    },
    {
      "cell_type": "markdown",
      "source": [
        "Interprétation :\n",
        "\n",
        "La très faible valeur de\n",
        "𝑝 (≈0) indique que les données sont extrêmement dispersées. Cela reflète une variance bien supérieure à la moyenne.\n",
        "\n",
        "𝑟 étant proche de\n",
        "0, la loi Binomiale Négative montre que les données suivent un comportement hyper-dispersé."
      ],
      "metadata": {
        "id": "u6zfntxkO3wc"
      }
    },
    {
      "cell_type": "code",
      "source": [
        "from scipy.stats import nbinom\n",
        "\n",
        "# Calcul des fréquences attendues (binomiale négative)\n",
        "binom_neg_dist_binned = []\n",
        "for i in range(len(bins) - 1):\n",
        "    lower, upper = bins[i], bins[i + 1]\n",
        "    # Calcul de la probabilité dans chaque intervalle\n",
        "    prob = nbinom.cdf(upper, r_estimate, p_estimate) - nbinom.cdf(lower, r_estimate, p_estimate)\n",
        "    # Multiplication par le nombre total d'observations\n",
        "    binom_neg_dist_binned.append(prob * len(df_prepared))\n",
        "\n",
        "# Conversion en tableau numpy\n",
        "binom_neg_dist_binned = np.array(binom_neg_dist_binned)"
      ],
      "metadata": {
        "id": "-33FBXG5PRJc"
      },
      "execution_count": null,
      "outputs": []
    },
    {
      "cell_type": "code",
      "source": [
        "# Calculez r et p si nécessaire\n",
        "mean = df_prepared['Maladesparregion'].mean()\n",
        "variance = df_prepared['Maladesparregion'].var()\n",
        "\n",
        "# Évitons les divisions par zéro\n",
        "if variance > mean:\n",
        "    r_estimate = mean**2 / (variance - mean)\n",
        "    p_estimate = mean / variance\n",
        "else:\n",
        "    print(\"Erreur : La variance doit être supérieure à la moyenne pour la Binomiale Négative.\")\n",
        "    r_estimate, p_estimate = None, None\n",
        "\n",
        "print(f\"Paramètre r : {r_estimate}\")\n",
        "print(f\"Paramètre p : {p_estimate}\")"
      ],
      "metadata": {
        "id": "aOkV8GzQPgiy",
        "colab": {
          "base_uri": "https://localhost:8080/"
        },
        "outputId": "7c9e028c-9814-47f1-91a5-b3949df5ad27"
      },
      "execution_count": null,
      "outputs": [
        {
          "output_type": "stream",
          "name": "stdout",
          "text": [
            "Paramètre r : 0.10028756584920254\n",
            "Paramètre p : 0.00018761959852824374\n"
          ]
        }
      ]
    },
    {
      "cell_type": "code",
      "source": [
        "# Ajustement des bins et des fréquences attendues\n",
        "bins_filtered = bins[:len(observed_binned) + 1]\n",
        "binom_neg_dist_binned = binom_neg_dist_binned[:len(observed_binned)]"
      ],
      "metadata": {
        "id": "c9WXgcuwJYPJ"
      },
      "execution_count": null,
      "outputs": []
    },
    {
      "cell_type": "code",
      "source": [
        "print(f\"Nombre de bins après filtrage : {len(bins_filtered) - 1}\")\n",
        "print(f\"Nombre d'observations après filtrage : {len(observed_binned)}\")\n",
        "print(f\"Nombre d'attendues après filtrage : {len(binom_neg_dist_binned)}\")"
      ],
      "metadata": {
        "colab": {
          "base_uri": "https://localhost:8080/"
        },
        "id": "QSv8cpBOJbom",
        "outputId": "5eadbf93-4dee-436c-a49a-91229739b8be"
      },
      "execution_count": null,
      "outputs": [
        {
          "output_type": "stream",
          "name": "stdout",
          "text": [
            "Nombre de bins après filtrage : 25\n",
            "Nombre d'observations après filtrage : 25\n",
            "Nombre d'attendues après filtrage : 25\n"
          ]
        }
      ]
    },
    {
      "cell_type": "code",
      "source": [
        "# Tracer le graphique\n",
        "plt.bar(bins_filtered[:-1], observed_binned, width=np.diff(bins_filtered), alpha=0.6, label='Observées', align='edge')\n",
        "plt.bar(bins_filtered[:-1], binom_neg_dist_binned, width=np.diff(bins_filtered), alpha=0.6, label='Attendues (Binomiale Négative)', align='edge')\n",
        "\n",
        "plt.xlabel('Nombre de malades')\n",
        "plt.ylabel('Fréquences')\n",
        "plt.title('Comparaison des fréquences observées et attendues (Binomiale Négative)')\n",
        "plt.legend()\n",
        "plt.show()"
      ],
      "metadata": {
        "colab": {
          "base_uri": "https://localhost:8080/",
          "height": 472
        },
        "id": "Kw1HYs_gJgvL",
        "outputId": "44c80b4b-4f28-4502-b520-063a5fe03c7c"
      },
      "execution_count": null,
      "outputs": [
        {
          "output_type": "display_data",
          "data": {
            "text/plain": [
              "<Figure size 640x480 with 1 Axes>"
            ],
            "image/png": "[encoded data removed]"
          },
          "metadata": {}
        }
      ]
    },
    {
      "cell_type": "markdown",
      "source": [
        "**Observation des fréquences**\n",
        "\n",
        "* Barres bleues : Les fréquences observées pour le nombre de malades dans les régions.\n",
        "\n",
        "* Barres orange : Les fréquences attendues selon le modèle de la loi binomiale négative estimée."
      ],
      "metadata": {
        "id": "aBV0QiKZJzML"
      }
    },
    {
      "cell_type": "markdown",
      "source": [
        "Les deux distributions montrent une concordance acceptable pour les valeurs faibles de malades (proche de 0 à 100).\n",
        "Cela indique que la loi binomiale négative est capable de modéliser les cas fréquents avec peu de malades.\n",
        "\n",
        "\n",
        "Cependant, au fur et à mesure que le nombre de malades augmente, l'écart entre les fréquences observées et attendues devient plus visible. Cela pourrait être dû à des outliers ou des caractéristiques spécifiques des données qui ne sont pas capturées par le modèle."
      ],
      "metadata": {
        "id": "McSHZZ4SKP7V"
      }
    },
    {
      "cell_type": "markdown",
      "source": [
        "7. Créons une fonction CarteRegions(madate) qui affiche la carte choroplèthe des régions en utilisant le nombre de malades."
      ],
      "metadata": {
        "id": "hOpTSatTLSBL"
      }
    },
    {
      "cell_type": "code",
      "source": [
        "\"\"\"\"Cette commande installe la bibliothèque geopandas pour manipuler des données géographiques.\"\"\"\n",
        "!pip install geopandas --quiet\n"
      ],
      "metadata": {
        "id": "UONhQV1dSPAy"
      },
      "execution_count": null,
      "outputs": []
    },
    {
      "cell_type": "code",
      "source": [
        "!pip install gdown geopandas --quiet\n",
        "\n",
        "import gdown\n",
        "\n",
        "# Liens Google Drive pour tous les fichiers nécessaires\n",
        "files = {\n",
        "    \"gadm41_SEN_1.shp\": \"https://drive.google.com/uc?id=1rpnSO3gGM9NofLWfndOYsn07bGJre5B2\",\n",
        "    \"gadm41_SEN_1.shx\": \"https://drive.google.com/uc?id=10uNitNHFelskASKX13hjp7qWzMrPSuHN\",\n",
        "    \"gadm41_SEN_1.dbf\": \"https://drive.google.com/uc?id=1hN6x_8lZ3wPgn7CajLhlYYmI82QdX16_\",\n",
        "    \"gadm41_SEN_1.prj\": \"https://drive.google.com/uc?id=1zDwQsG4JVQwsH5429NdllO6drOixVwP3\",\n",
        "}\n",
        "\n",
        "\n",
        "# Télécharger chaque fichier\n",
        "for filename, url in files.items():\n",
        "    gdown.download(url, filename, quiet=False)\n"
      ],
      "metadata": {
        "colab": {
          "base_uri": "https://localhost:8080/"
        },
        "id": "p92inGUdN4U4",
        "outputId": "bb6c348e-e4ac-44f9-d91e-47086c6438de"
      },
      "execution_count": null,
      "outputs": [
        {
          "output_type": "stream",
          "name": "stderr",
          "text": [
            "Downloading...\n",
            "From: https://drive.google.com/uc?id=1rpnSO3gGM9NofLWfndOYsn07bGJre5B2\n",
            "To: /content/gadm41_SEN_1.shp\n",
            "100%|██████████| 654k/654k [00:00<00:00, 15.9MB/s]\n",
            "Downloading...\n",
            "From: https://drive.google.com/uc?id=10uNitNHFelskASKX13hjp7qWzMrPSuHN\n",
            "To: /content/gadm41_SEN_1.shx\n",
            "100%|██████████| 212/212 [00:00<00:00, 522kB/s]\n",
            "Downloading...\n",
            "From: https://drive.google.com/uc?id=1hN6x_8lZ3wPgn7CajLhlYYmI82QdX16_\n",
            "To: /content/gadm41_SEN_1.dbf\n",
            "100%|██████████| 2.15k/2.15k [00:00<00:00, 5.55MB/s]\n",
            "Downloading...\n",
            "From: https://drive.google.com/uc?id=1zDwQsG4JVQwsH5429NdllO6drOixVwP3\n",
            "To: /content/gadm41_SEN_1.prj\n",
            "100%|██████████| 145/145 [00:00<00:00, 394kB/s]\n"
          ]
        }
      ]
    },
    {
      "cell_type": "code",
      "source": [
        "import geopandas as gpd\n",
        "import matplotlib.pyplot as plt\n",
        "\n",
        "# Charger le fichier shapefile\n",
        "senegal_geo = gpd.read_file(\"gadm41_SEN_1.shp\")\n",
        "\n",
        "# Vérification des données géographiques\n",
        "print(senegal_geo.head())\n",
        "\n",
        "# Fonction pour afficher la carte choroplèthe\n",
        "def CarteRegions(madate):\n",
        "    \"\"\"\n",
        "    Affiche une carte choroplèthe des régions du Sénégal pour une date donnée.\n",
        "\n",
        "    Arguments:\n",
        "    madate : str - Date à laquelle afficher les données (au format 'YYYY-MM-DD').\n",
        "    \"\"\"\n",
        "    # Filtrer les données pour la date donnée\n",
        "    date_data = df_prepared[df_prepared['Date'] == madate]\n",
        "\n",
        "    # Joindre les données géographiques et les données des malades\n",
        "    geo_data = senegal_geo.merge(date_data, how=\"left\", left_on=\"NAME_1\", right_on=\"Region\")\n",
        "    geo_data['Maladesparregion'] = geo_data['Maladesparregion'].fillna(0)\n",
        "\n",
        "    # Tracer la carte choroplèthe\n",
        "    fig, ax = plt.subplots(1, 1, figsize=(10, 8))\n",
        "    geo_data.plot(column='Maladesparregion', cmap='Reds', linewidth=0.8, ax=ax, edgecolor='0.8', legend=True)\n",
        "    plt.title(f\"Carte des malades au {madate}\")\n",
        "    plt.axis('off')  # Masquer les axes pour une meilleure visualisation\n",
        "    plt.show()\n"
      ],
      "metadata": {
        "colab": {
          "base_uri": "https://localhost:8080/"
        },
        "id": "Ug62n1MPRS5_",
        "outputId": "884cb479-2af9-4e0a-dcaf-0e5063233b02"
      },
      "execution_count": null,
      "outputs": [
        {
          "output_type": "stream",
          "name": "stdout",
          "text": [
            "     GID_1 GID_0  COUNTRY    NAME_1       VARNAME_1 NL_NAME_1   TYPE_1  \\\n",
            "0  SEN.1_1   SEN  Senegal     Dakar  Cap Vert|Dacar        NA  RÃ©gion   \n",
            "1  SEN.2_1   SEN  Senegal  Diourbel              NA        NA  RÃ©gion   \n",
            "2  SEN.3_1   SEN  Senegal    Fatick              NA        NA  RÃ©gion   \n",
            "3  SEN.4_1   SEN  Senegal  Kaffrine              NA        NA  RÃ©gion   \n",
            "4  SEN.5_1   SEN  Senegal   Kaolack              NA        NA  RÃ©gion   \n",
            "\n",
            "  ENGTYPE_1 CC_1 HASC_1  ISO_1  \\\n",
            "0    Region    1  SN.DK  SN-DK   \n",
            "1    Region    3  SN.DB  SN-DB   \n",
            "2    Region    9  SN.FK  SN-FK   \n",
            "3    Region   12  SN.KF  SN-KA   \n",
            "4    Region    6  SN.KC  SN-KL   \n",
            "\n",
            "                                            geometry  \n",
            "0  MULTIPOLYGON (((-17.46764 14.64874, -17.46764 ...  \n",
            "1  MULTIPOLYGON (((-16.04326 14.555, -16.04513 14...  \n",
            "2  MULTIPOLYGON (((-16.65347 13.64736, -16.65347 ...  \n",
            "3  POLYGON ((-15.39492 13.75729, -15.39724 13.754...  \n",
            "4  POLYGON ((-15.99889 13.59169, -15.9991 13.5916...  \n"
          ]
        }
      ]
    },
    {
      "cell_type": "code",
      "source": [
        "# Exemple pour le 1er octobre 2020\n",
        "CarteRegions(\"2020-10-01\")\n"
      ],
      "metadata": {
        "colab": {
          "base_uri": "https://localhost:8080/",
          "height": 661
        },
        "id": "g1COacCXRtHM",
        "outputId": "26f16905-0154-41a1-cf81-abf2e06e6e2a"
      },
      "execution_count": null,
      "outputs": [
        {
          "output_type": "display_data",
          "data": {
            "text/plain": [
              "<Figure size 1000x800 with 2 Axes>"
            ],
            "image/png": "[encoded data removed]"
          },
          "metadata": {}
        }
      ]
    },
    {
      "cell_type": "markdown",
      "source": [
        "Nous remarquons que certaines régions n'étaient pas colorées."
      ],
      "metadata": {
        "id": "pnFY9FtjT2UV"
      }
    },
    {
      "cell_type": "code",
      "source": [
        "# Nettoyage des noms des régions dans `senegal_geo`\n",
        "senegal_geo['NAME_1'] = (\n",
        "    senegal_geo['NAME_1']\n",
        "    .str.normalize('NFKD')  # Conversion en Unicode normalisé\n",
        "    .str.encode('ascii', errors='ignore')  # Suppression des accents\n",
        "    .str.decode('utf-8')  # Reconversion en chaîne lisible\n",
        "    .str.capitalize()  # Capitalisation la première lettre\n",
        ")\n",
        "\n",
        "# Vérification après nettoyage\n",
        "print(senegal_geo['NAME_1'].unique())"
      ],
      "metadata": {
        "colab": {
          "base_uri": "https://localhost:8080/"
        },
        "id": "QENCA3SRYV8R",
        "outputId": "99a1e724-24f8-47e1-8925-54e72a0721b7"
      },
      "execution_count": null,
      "outputs": [
        {
          "output_type": "stream",
          "name": "stdout",
          "text": [
            "['Dakar' 'Diourbel' 'Fatick' 'Kaffrine' 'Kaolack' 'Kadougou' 'Kolda'\n",
            " 'Louga' 'Matam' 'Saint-louis' 'Sadhiou' 'Tambacounda' 'Thia s'\n",
            " 'Ziguinchor']\n"
          ]
        }
      ]
    },
    {
      "cell_type": "code",
      "source": [
        "# Récupérer les noms uniques des régions\n",
        "geo_regions = set(senegal_geo['NAME_1'].unique())\n",
        "data_regions = set(df_prepared['Region'].unique())\n",
        "\n",
        "# Identifier les différences\n",
        "missing_in_geo = data_regions - geo_regions\n",
        "missing_in_data = geo_regions - data_regions\n",
        "\n",
        "print(f\"Noms présents dans les données mais pas dans la géographie : {missing_in_geo}\")\n",
        "print(f\"Noms présents dans la géographie mais pas dans les données : {missing_in_data}\")\n"
      ],
      "metadata": {
        "colab": {
          "base_uri": "https://localhost:8080/"
        },
        "id": "MqVcncdIYYV8",
        "outputId": "0779abaf-88ae-4969-f3b6-88aa34dee873"
      },
      "execution_count": null,
      "outputs": [
        {
          "output_type": "stream",
          "name": "stdout",
          "text": [
            "Noms présents dans les données mais pas dans la géographie : {'Sedhiou', 'Thies', 'Kedougou', 'Saint louis'}\n",
            "Noms présents dans la géographie mais pas dans les données : {'Sadhiou', 'Thia s', 'Saint-louis', 'Kadougou'}\n"
          ]
        }
      ]
    },
    {
      "cell_type": "markdown",
      "source": [
        "\n",
        "Ce problème provenait d'une différence dans l'orthographe des noms des régions entre le fichier géographique (`senegal_geo`) et le fichier contenant les données des malades (`df_prepared`). Par exemple, la région **Saint-Louis** était écrite :\n",
        "\n",
        "- **\"Saint-louis\"** (avec un tiret) dans le fichier géographique.\n",
        "- **\"Saint louis\"** (avec un espace) dans les données des malades."
      ],
      "metadata": {
        "id": "uRg_xtskXZ2Q"
      }
    },
    {
      "cell_type": "code",
      "source": [
        "# Harmonisation des noms spécifiques\n",
        "senegal_geo['NAME_1'] = senegal_geo['NAME_1'].replace({'Saint-louis': 'Saint louis'})"
      ],
      "metadata": {
        "id": "jSqgClzNYexz"
      },
      "execution_count": null,
      "outputs": []
    },
    {
      "cell_type": "markdown",
      "source": [
        "\n",
        "Ces incohérences empêchaient l'association correcte des données entre les deux fichiers. Pour résoudre ce problème, nous avons effectué les étapes suivantes :\n",
        "\n",
        "1. **Normalisation des noms :**\n",
        "   - Suppression des accents (par exemple, **\"Kédougou\"** devient **\"Kedougou\"**).\n",
        "   - Uniformisation de la casse (tous les noms commencent par une majuscule, le reste en minuscule).\n",
        "   - Remplacement des tirets par des espaces.\n",
        "\n",
        "2. **Harmonisation spécifique :**\n",
        "   - Nous avons corrigé manuellement les noms problématiques identifiés, comme **\"Saint-louis\"**, que nous avons remplacé par **\"Saint louis\"** pour assurer la correspondance avec les données.\n",
        "\n",
        "3. **Validation :**\n",
        "   - Après nettoyage, nous avons vérifié que tous les noms des régions correspondaient parfaitement entre les deux fichiers. Cela a permis d'éliminer toutes les incohérences.\n"
      ],
      "metadata": {
        "id": "p4s4n4boX1sU"
      }
    },
    {
      "cell_type": "code",
      "source": [
        "geo_regions = set(senegal_geo['NAME_1'].unique())\n",
        "data_regions = set(df_prepared['Region'].unique())\n",
        "\n",
        "missing_in_geo = data_regions - geo_regions\n",
        "missing_in_data = geo_regions - data_regions\n",
        "\n",
        "print(f\"Noms présents dans les données mais pas dans la géographie : {missing_in_geo}\")\n",
        "print(f\"Noms présents dans la géographie mais pas dans les données : {missing_in_data}\")"
      ],
      "metadata": {
        "colab": {
          "base_uri": "https://localhost:8080/"
        },
        "id": "8htmsWlQYy4v",
        "outputId": "6dcd9d7a-9fd1-4fe7-b5c1-b5dd5dd6a1d1"
      },
      "execution_count": null,
      "outputs": [
        {
          "output_type": "stream",
          "name": "stdout",
          "text": [
            "Noms présents dans les données mais pas dans la géographie : {'Sedhiou', 'Thies', 'Kedougou'}\n",
            "Noms présents dans la géographie mais pas dans les données : {'Sadhiou', 'Thia s', 'Kadougou'}\n"
          ]
        }
      ]
    },
    {
      "cell_type": "markdown",
      "source": [
        "Cela signifie maintenant que les noms des régions dans les données géographiques (senegal_geo) et les données de malades (df_prepared) sont désormais parfaitement harmonisés.\n",
        "\n",
        "Nous pouvons maintenant utiliser la fonction CarteRegions pour tracer la carte choroplèthe sans problème."
      ],
      "metadata": {
        "id": "RKTlw1s0ZELx"
      }
    },
    {
      "cell_type": "code",
      "source": [
        "# Exemple pour le 1er octobre 2020\n",
        "CarteRegions(\"2020-10-01\")\n"
      ],
      "metadata": {
        "colab": {
          "base_uri": "https://localhost:8080/",
          "height": 661
        },
        "id": "QylhZfJrY4av",
        "outputId": "0faf7614-089b-4dca-bb5d-810445cd0701"
      },
      "execution_count": null,
      "outputs": [
        {
          "output_type": "display_data",
          "data": {
            "text/plain": [
              "<Figure size 1000x800 with 2 Axes>"
            ],
            "image/png": "[encoded data removed]"
          },
          "metadata": {}
        }
      ]
    },
    {
      "cell_type": "markdown",
      "source": [
        "Grâce à ce traitement, nous avons pu générer une carte choroplèthe complète où chaque région est correctement associée à ses données. Ce nettoyage est crucial pour garantir l'intégrité des résultats, surtout lorsque les sources de données proviennent de différents systèmes avec des conventions de nommage variées.\n"
      ],
      "metadata": {
        "id": "j34NZEMnZaEw"
      }
    },
    {
      "cell_type": "markdown",
      "source": [
        "Pour rendre la fonction plus dynamique, nous pouvons utiliser un widget interactif pour sélectionner la date :"
      ],
      "metadata": {
        "id": "6u1ntYj1Zp41"
      }
    },
    {
      "cell_type": "markdown",
      "source": [
        "Ceci facilitera l'Interface Utilisateur en selectionnant directement au niveau du graphe, les donnnees de la date a visualiser."
      ],
      "metadata": {
        "id": "uSekk5m-Z0bD"
      }
    },
    {
      "cell_type": "code",
      "source": [
        "from ipywidgets import interact\n",
        "\n",
        "# Widget interactif pour choisir une date\n",
        "interact(CarteRegions, madate=sorted(df_prepared['Date'].unique().astype(str)))\n"
      ],
      "metadata": {
        "colab": {
          "base_uri": "https://localhost:8080/",
          "height": 832,
          "referenced_widgets": [
            "ff33c24a6af54dc596ec249d1b07e5ae",
            "cca0417f8d59463b95e395f5b3fc72e6",
            "36f31f7d90794ddeb98377f272213787",
            "13a6a4bac7284a6a806492f9960b606e",
            "a664d511e812484d98b770118e05f56d",
            "8e77c4a08cca4c45afbd88995bf0090b",
            "01ccd8582e0d40aeadae45c0e9d5add9"
          ]
        },
        "id": "ZL1I6pF9ZLot",
        "outputId": "08286f32-f093-4617-829e-e78d1884a027"
      },
      "execution_count": null,
      "outputs": [
        {
          "output_type": "display_data",
          "data": {
            "text/plain": [
              "interactive(children=(Dropdown(description='madate', options=('2020-03-29', '2020-03-31', '2020-04-01', '2020-…"
            ],
            "application/vnd.jupyter.widget-view+json": {
              "version_major": 2,
              "version_minor": 0,
              "model_id": "ff33c24a6af54dc596ec249d1b07e5ae"
            }
          },
          "metadata": {}
        },
        {
          "output_type": "execute_result",
          "data": {
            "text/plain": [
              "<function __main__.CarteRegions(madate)>"
            ],
            "text/html": [
              "<div style=\"max-width:800px; border: 1px solid var(--colab-border-color);\"><style>\n",
              "      pre.function-repr-contents {\n",
              "        overflow-x: auto;\n",
              "        padding: 8px 12px;\n",
              "        max-height: 500px;\n",
              "      }\n",
              "\n",
              "      pre.function-repr-contents.function-repr-contents-collapsed {\n",
              "        cursor: pointer;\n",
              "        max-height: 100px;\n",
              "      }\n",
              "    </style>\n",
              "    <pre style=\"white-space: initial; background:\n",
              "         var(--colab-secondary-surface-color); padding: 8px 12px;\n",
              "         border-bottom: 1px solid var(--colab-border-color);\"><b>CarteRegions</b><br/>def CarteRegions(madate)</pre><pre class=\"function-repr-contents function-repr-contents-collapsed\" style=\"\"><a class=\"filepath\" style=\"display:none\" href=\"#\">/content/&lt;ipython-input-81-c163b4f56dd0&gt;</a>Affiche une carte choroplèthe des régions du Sénégal pour une date donnée.\n",
              "\n",
              "Arguments:\n",
              "madate : str - Date à laquelle afficher les données (au format &#x27;YYYY-MM-DD&#x27;).</pre></div>"
            ]
          },
          "metadata": {},
          "execution_count": 88
        }
      ]
    }
  ]
}